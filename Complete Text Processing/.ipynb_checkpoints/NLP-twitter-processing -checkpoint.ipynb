{
 "cells": [
  {
   "cell_type": "code",
   "execution_count": 1,
   "id": "bc6f5161",
   "metadata": {},
   "outputs": [],
   "source": [
    "import pandas as pd # data processing, CSV file I/O (e.g. pd.read_csv)\n",
    "import numpy as np # linear algebra\n",
    "import os # accessing directory structure\n",
    "import spacy\n",
    "import en_core_web_sm\n",
    "nlp = en_core_web_sm.load()\n",
    "from spacy.lang.en.stop_words import STOP_WORDS as stopwords\n",
    "import h2o\n",
    "import os\n",
    "# matplotlib and seaborn for plotting\n",
    "import string\n",
    "import collections\n",
    "import json\n",
    "from wordcloud import WordCloud, STOPWORDS, ImageColorGenerator\n",
    "import matplotlib.pyplot as plt # plotting\n",
    "import seaborn as sns\n",
    "sns.set_style(\"whitegrid\")\n",
    "%matplotlib inline\n",
    "\n",
    "\n",
    "from IPython.display import Image\n",
    "\n",
    "pd.options.display.max_rows=20\n",
    "\n",
    "# Turn off future warnings \n",
    "import warnings\n",
    "warnings.simplefilter(action='ignore', category=FutureWarning)  "
   ]
  },
  {
   "cell_type": "code",
   "execution_count": 2,
   "id": "74f582a6",
   "metadata": {},
   "outputs": [
    {
     "data": {
      "text/plain": [
       "['contractions',\n",
       " 'Complete Text Processing.ipynb',\n",
       " '.DS_Store',\n",
       " '.ipynb_checkpoints',\n",
       " 'NLP-twitter-processing .ipynb']"
      ]
     },
     "execution_count": 2,
     "metadata": {},
     "output_type": "execute_result"
    }
   ],
   "source": [
    "\n",
    "#!pip install h2o==3.30.0.1\n",
    "os.listdir()"
   ]
  },
  {
   "cell_type": "code",
   "execution_count": 3,
   "id": "74e375c6",
   "metadata": {},
   "outputs": [],
   "source": [
    "#pd.read_csv?"
   ]
  },
  {
   "cell_type": "code",
   "execution_count": 4,
   "id": "30835123",
   "metadata": {},
   "outputs": [
    {
     "data": {
      "text/html": [
       "<div>\n",
       "<style scoped>\n",
       "    .dataframe tbody tr th:only-of-type {\n",
       "        vertical-align: middle;\n",
       "    }\n",
       "\n",
       "    .dataframe tbody tr th {\n",
       "        vertical-align: top;\n",
       "    }\n",
       "\n",
       "    .dataframe thead th {\n",
       "        text-align: right;\n",
       "    }\n",
       "</style>\n",
       "<table border=\"1\" class=\"dataframe\">\n",
       "  <thead>\n",
       "    <tr style=\"text-align: right;\">\n",
       "      <th></th>\n",
       "      <th>twitts</th>\n",
       "      <th>sentiment</th>\n",
       "    </tr>\n",
       "  </thead>\n",
       "  <tbody>\n",
       "    <tr>\n",
       "      <th>0</th>\n",
       "      <td>is bored and wants to watch a movie  any sugge...</td>\n",
       "      <td>0</td>\n",
       "    </tr>\n",
       "    <tr>\n",
       "      <th>1</th>\n",
       "      <td>back in miami.  waiting to unboard ship</td>\n",
       "      <td>0</td>\n",
       "    </tr>\n",
       "    <tr>\n",
       "      <th>2</th>\n",
       "      <td>@misskpey awwww dnt dis brng bak memoriessss, ...</td>\n",
       "      <td>0</td>\n",
       "    </tr>\n",
       "    <tr>\n",
       "      <th>3</th>\n",
       "      <td>ughhh i am so tired  blahhhhhhhhh</td>\n",
       "      <td>0</td>\n",
       "    </tr>\n",
       "    <tr>\n",
       "      <th>4</th>\n",
       "      <td>@mandagoforth me bad! It's funny though. Zacha...</td>\n",
       "      <td>0</td>\n",
       "    </tr>\n",
       "    <tr>\n",
       "      <th>...</th>\n",
       "      <td>...</td>\n",
       "      <td>...</td>\n",
       "    </tr>\n",
       "    <tr>\n",
       "      <th>3995</th>\n",
       "      <td>i just graduated</td>\n",
       "      <td>1</td>\n",
       "    </tr>\n",
       "    <tr>\n",
       "      <th>3996</th>\n",
       "      <td>Templating works; it all has to be done</td>\n",
       "      <td>1</td>\n",
       "    </tr>\n",
       "    <tr>\n",
       "      <th>3997</th>\n",
       "      <td>mommy just brought me starbucks</td>\n",
       "      <td>1</td>\n",
       "    </tr>\n",
       "    <tr>\n",
       "      <th>3998</th>\n",
       "      <td>@omarepps watching you on a House re-run...lov...</td>\n",
       "      <td>1</td>\n",
       "    </tr>\n",
       "    <tr>\n",
       "      <th>3999</th>\n",
       "      <td>Thanks for trying to make me smile I'll make y...</td>\n",
       "      <td>1</td>\n",
       "    </tr>\n",
       "  </tbody>\n",
       "</table>\n",
       "<p>4000 rows × 2 columns</p>\n",
       "</div>"
      ],
      "text/plain": [
       "                                                 twitts  sentiment\n",
       "0     is bored and wants to watch a movie  any sugge...          0\n",
       "1              back in miami.  waiting to unboard ship           0\n",
       "2     @misskpey awwww dnt dis brng bak memoriessss, ...          0\n",
       "3                     ughhh i am so tired  blahhhhhhhhh          0\n",
       "4     @mandagoforth me bad! It's funny though. Zacha...          0\n",
       "...                                                 ...        ...\n",
       "3995                                  i just graduated           1\n",
       "3996          Templating works; it all has to be done            1\n",
       "3997                   mommy just brought me starbucks           1\n",
       "3998  @omarepps watching you on a House re-run...lov...          1\n",
       "3999  Thanks for trying to make me smile I'll make y...          1\n",
       "\n",
       "[4000 rows x 2 columns]"
      ]
     },
     "execution_count": 4,
     "metadata": {},
     "output_type": "execute_result"
    }
   ],
   "source": [
    "df = pd.read_csv(\"https://raw.githubusercontent.com/laxmimerit/twitter-data/master/twitter4000.csv\")\n",
    "df"
   ]
  },
  {
   "cell_type": "markdown",
   "id": "a145f1d3",
   "metadata": {},
   "source": [
    "# WORD COUNT"
   ]
  },
  {
   "cell_type": "code",
   "execution_count": 5,
   "id": "a3c0f21c",
   "metadata": {},
   "outputs": [],
   "source": [
    "df['word_count'] = df['twitts'].apply(lambda x: len(str(x).split()))"
   ]
  },
  {
   "cell_type": "code",
   "execution_count": 6,
   "id": "0fdcf159",
   "metadata": {},
   "outputs": [
    {
     "data": {
      "text/html": [
       "<div>\n",
       "<style scoped>\n",
       "    .dataframe tbody tr th:only-of-type {\n",
       "        vertical-align: middle;\n",
       "    }\n",
       "\n",
       "    .dataframe tbody tr th {\n",
       "        vertical-align: top;\n",
       "    }\n",
       "\n",
       "    .dataframe thead th {\n",
       "        text-align: right;\n",
       "    }\n",
       "</style>\n",
       "<table border=\"1\" class=\"dataframe\">\n",
       "  <thead>\n",
       "    <tr style=\"text-align: right;\">\n",
       "      <th></th>\n",
       "      <th>twitts</th>\n",
       "      <th>sentiment</th>\n",
       "      <th>word_count</th>\n",
       "    </tr>\n",
       "  </thead>\n",
       "  <tbody>\n",
       "    <tr>\n",
       "      <th>0</th>\n",
       "      <td>is bored and wants to watch a movie  any sugge...</td>\n",
       "      <td>0</td>\n",
       "      <td>10</td>\n",
       "    </tr>\n",
       "    <tr>\n",
       "      <th>1</th>\n",
       "      <td>back in miami.  waiting to unboard ship</td>\n",
       "      <td>0</td>\n",
       "      <td>7</td>\n",
       "    </tr>\n",
       "    <tr>\n",
       "      <th>2</th>\n",
       "      <td>@misskpey awwww dnt dis brng bak memoriessss, ...</td>\n",
       "      <td>0</td>\n",
       "      <td>12</td>\n",
       "    </tr>\n",
       "    <tr>\n",
       "      <th>3</th>\n",
       "      <td>ughhh i am so tired  blahhhhhhhhh</td>\n",
       "      <td>0</td>\n",
       "      <td>6</td>\n",
       "    </tr>\n",
       "    <tr>\n",
       "      <th>4</th>\n",
       "      <td>@mandagoforth me bad! It's funny though. Zacha...</td>\n",
       "      <td>0</td>\n",
       "      <td>26</td>\n",
       "    </tr>\n",
       "  </tbody>\n",
       "</table>\n",
       "</div>"
      ],
      "text/plain": [
       "                                              twitts  sentiment  word_count\n",
       "0  is bored and wants to watch a movie  any sugge...          0          10\n",
       "1           back in miami.  waiting to unboard ship           0           7\n",
       "2  @misskpey awwww dnt dis brng bak memoriessss, ...          0          12\n",
       "3                  ughhh i am so tired  blahhhhhhhhh          0           6\n",
       "4  @mandagoforth me bad! It's funny though. Zacha...          0          26"
      ]
     },
     "execution_count": 6,
     "metadata": {},
     "output_type": "execute_result"
    }
   ],
   "source": [
    "df.head()"
   ]
  },
  {
   "cell_type": "markdown",
   "id": "a945e22d",
   "metadata": {},
   "source": [
    "# WORD CLOUD"
   ]
  },
  {
   "cell_type": "code",
   "execution_count": 7,
   "id": "9c2ce731",
   "metadata": {},
   "outputs": [
    {
     "data": {
      "text/html": [
       "<div>\n",
       "<style scoped>\n",
       "    .dataframe tbody tr th:only-of-type {\n",
       "        vertical-align: middle;\n",
       "    }\n",
       "\n",
       "    .dataframe tbody tr th {\n",
       "        vertical-align: top;\n",
       "    }\n",
       "\n",
       "    .dataframe thead th {\n",
       "        text-align: right;\n",
       "    }\n",
       "</style>\n",
       "<table border=\"1\" class=\"dataframe\">\n",
       "  <thead>\n",
       "    <tr style=\"text-align: right;\">\n",
       "      <th></th>\n",
       "      <th>twitts</th>\n",
       "      <th>sentiment</th>\n",
       "      <th>word_count</th>\n",
       "    </tr>\n",
       "  </thead>\n",
       "  <tbody>\n",
       "    <tr>\n",
       "      <th>385</th>\n",
       "      <td>homework</td>\n",
       "      <td>0</td>\n",
       "      <td>1</td>\n",
       "    </tr>\n",
       "    <tr>\n",
       "      <th>691</th>\n",
       "      <td>@ekrelly</td>\n",
       "      <td>0</td>\n",
       "      <td>1</td>\n",
       "    </tr>\n",
       "    <tr>\n",
       "      <th>1124</th>\n",
       "      <td>disappointed</td>\n",
       "      <td>0</td>\n",
       "      <td>1</td>\n",
       "    </tr>\n",
       "    <tr>\n",
       "      <th>1286</th>\n",
       "      <td>@officialmgnfox</td>\n",
       "      <td>0</td>\n",
       "      <td>1</td>\n",
       "    </tr>\n",
       "    <tr>\n",
       "      <th>1325</th>\n",
       "      <td>headache</td>\n",
       "      <td>0</td>\n",
       "      <td>1</td>\n",
       "    </tr>\n",
       "    <tr>\n",
       "      <th>1897</th>\n",
       "      <td>@MCRmuffin</td>\n",
       "      <td>0</td>\n",
       "      <td>1</td>\n",
       "    </tr>\n",
       "    <tr>\n",
       "      <th>2542</th>\n",
       "      <td>Graduated!</td>\n",
       "      <td>1</td>\n",
       "      <td>1</td>\n",
       "    </tr>\n",
       "    <tr>\n",
       "      <th>2947</th>\n",
       "      <td>reading</td>\n",
       "      <td>1</td>\n",
       "      <td>1</td>\n",
       "    </tr>\n",
       "    <tr>\n",
       "      <th>3176</th>\n",
       "      <td>@omeirdeleon</td>\n",
       "      <td>1</td>\n",
       "      <td>1</td>\n",
       "    </tr>\n",
       "    <tr>\n",
       "      <th>3470</th>\n",
       "      <td>www.myspace.com/myfinalthought</td>\n",
       "      <td>1</td>\n",
       "      <td>1</td>\n",
       "    </tr>\n",
       "    <tr>\n",
       "      <th>3966</th>\n",
       "      <td>@gethyp3</td>\n",
       "      <td>1</td>\n",
       "      <td>1</td>\n",
       "    </tr>\n",
       "  </tbody>\n",
       "</table>\n",
       "</div>"
      ],
      "text/plain": [
       "                               twitts  sentiment  word_count\n",
       "385                         homework           0           1\n",
       "691                         @ekrelly           0           1\n",
       "1124                    disappointed           0           1\n",
       "1286                 @officialmgnfox           0           1\n",
       "1325                        headache           0           1\n",
       "1897                      @MCRmuffin           0           1\n",
       "2542                      Graduated!           1           1\n",
       "2947                         reading           1           1\n",
       "3176                    @omeirdeleon           1           1\n",
       "3470  www.myspace.com/myfinalthought           1           1\n",
       "3966                        @gethyp3           1           1"
      ]
     },
     "execution_count": 7,
     "metadata": {},
     "output_type": "execute_result"
    }
   ],
   "source": [
    "spam1 = df[df['word_count'] == 1]\n",
    "spam1"
   ]
  },
  {
   "cell_type": "code",
   "execution_count": 8,
   "id": "d372f57a",
   "metadata": {},
   "outputs": [
    {
     "name": "stderr",
     "output_type": "stream",
     "text": [
      "/usr/local/anaconda3/envs/nlp_course/lib/python3.7/site-packages/ipykernel_launcher.py:1: SettingWithCopyWarning: \n",
      "A value is trying to be set on a copy of a slice from a DataFrame.\n",
      "Try using .loc[row_indexer,col_indexer] = value instead\n",
      "\n",
      "See the caveats in the documentation: https://pandas.pydata.org/pandas-docs/stable/user_guide/indexing.html#returning-a-view-versus-a-copy\n",
      "  \"\"\"Entry point for launching an IPython kernel.\n"
     ]
    },
    {
     "data": {
      "text/plain": [
       "385            homework \n",
       "691            @ekrelly \n",
       "1124       disappointed \n",
       "1286    @officialmgnfox \n",
       "1325           headache \n",
       "Name: text, dtype: object"
      ]
     },
     "execution_count": 8,
     "metadata": {},
     "output_type": "execute_result"
    }
   ],
   "source": [
    "spam1['text']= spam1['twitts'].str.lower()\n",
    "spam1['text'].head()"
   ]
  },
  {
   "cell_type": "markdown",
   "id": "4af4551d",
   "metadata": {},
   "source": [
    "# Splitting and Removing Punctuation from the Text"
   ]
  },
  {
   "cell_type": "code",
   "execution_count": 9,
   "id": "9e2cf4c6",
   "metadata": {},
   "outputs": [
    {
     "data": {
      "text/plain": [
       "385            [homework, ]\n",
       "691            [@ekrelly, ]\n",
       "1124       [disappointed, ]\n",
       "1286    [@officialmgnfox, ]\n",
       "1325           [headache, ]\n",
       "Name: text, dtype: object"
      ]
     },
     "execution_count": 9,
     "metadata": {},
     "output_type": "execute_result"
    }
   ],
   "source": [
    "all_spam = spam1['text'].str.split(' ')\n",
    "all_spam.head()"
   ]
  },
  {
   "cell_type": "markdown",
   "id": "bb537aae",
   "metadata": {},
   "source": [
    "# Joining the Entire Review\n",
    "In this step, we will join all the 'text' records. This is required to build the text corpus which will be used to build the word cloud. The lines of code below complete this task for us."
   ]
  },
  {
   "cell_type": "code",
   "execution_count": 10,
   "id": "cccae73b",
   "metadata": {},
   "outputs": [
    {
     "data": {
      "text/plain": [
       "'homework  ekrelly  disappointed  officialmgnfox  headache  mcrmuffin  graduated  reading  omeirdeleon  www.myspace.com/myfinalthought  gethyp3 '"
      ]
     },
     "execution_count": 10,
     "metadata": {},
     "output_type": "execute_result"
    }
   ],
   "source": [
    "all_spam_cleaned = []\n",
    "\n",
    "for text in all_spam:\n",
    "    text = [x.strip(string.punctuation) for x in text]\n",
    "    all_spam_cleaned.append(text)\n",
    "\n",
    "all_spam_cleaned[0]\n",
    "\n",
    "text_spam = [\" \".join(text) for text in all_spam_cleaned]\n",
    "final_text_spam = \" \".join(text_spam)\n",
    "final_text_spam[:500]"
   ]
  },
  {
   "cell_type": "markdown",
   "id": "33cf98b7",
   "metadata": {},
   "source": [
    "# Let us build the first word cloud. The first line of code generates the word cloud on the 'final_text_spam' corpus, while the second to fifth lines of code prints the word cloud."
   ]
  },
  {
   "cell_type": "code",
   "execution_count": 11,
   "id": "70a7adf9",
   "metadata": {},
   "outputs": [
    {
     "data": {
      "image/png": "[encoded data removed]",
      "text/plain": [
       "<Figure size 1080x1080 with 1 Axes>"
      ]
     },
     "metadata": {
      "needs_background": "light"
     },
     "output_type": "display_data"
    }
   ],
   "source": [
    "stopwords = set(STOPWORDS)\n",
    "stopwords.update([\"subject\",\"re\",\"vince\",\"kaminski\",\"enron\",\"cc\", \"will\", \"s\", \"1\",\"e\",\"t\"])\n",
    "\n",
    "wordcloud_spam = WordCloud(stopwords=stopwords, background_color=\"white\", max_font_size=50, max_words=100).generate(final_text_spam)\n",
    "\n",
    "# Lines 4 to 7\n",
    "plt.figure(figsize = (15,15))\n",
    "plt.imshow(wordcloud_spam, interpolation='bilinear')\n",
    "plt.axis(\"off\")\n",
    "plt.show()"
   ]
  },
  {
   "cell_type": "markdown",
   "id": "523c133d",
   "metadata": {},
   "source": [
    "# extract the most frequent thirty words"
   ]
  },
  {
   "cell_type": "code",
   "execution_count": 12,
   "id": "9412306f",
   "metadata": {},
   "outputs": [
    {
     "name": "stdout",
     "output_type": "stream",
     "text": [
      "Word: homework, count: 1\n",
      "Word: ekrelly, count: 1\n",
      "Word: disappointed, count: 1\n",
      "Word: officialmgnfox, count: 1\n",
      "Word: headache, count: 1\n",
      "Word: mcrmuffin, count: 1\n",
      "Word: graduated, count: 1\n",
      "Word: reading, count: 1\n",
      "Word: omeirdeleon, count: 1\n",
      "Word: www.myspace.com/myfinalthought, count: 1\n",
      "Word: gethyp3, count: 1\n"
     ]
    }
   ],
   "source": [
    "filtered_words_spam = [word for word in final_text_spam.split() if word not in stopwords]\n",
    "counted_words_spam = collections.Counter(filtered_words_spam)\n",
    "\n",
    "word_count_spam = {}\n",
    "\n",
    "for letter, count in counted_words_spam.most_common(30):\n",
    "    word_count_spam[letter] = count\n",
    "    \n",
    "for i,j in word_count_spam.items():\n",
    "        print('Word: {0}, count: {1}'.format(i,j))"
   ]
  },
  {
   "cell_type": "markdown",
   "id": "10b4cf11",
   "metadata": {},
   "source": [
    "# CHARACTER COUNT"
   ]
  },
  {
   "cell_type": "code",
   "execution_count": 13,
   "id": "f29f2466",
   "metadata": {},
   "outputs": [],
   "source": [
    "def charac_counts(x):\n",
    "    \"\"\"\n",
    "    remove the spaces between characters before counting\n",
    "    \"\"\"\n",
    "    s = x.split()\n",
    "    x = ' '.join(s)\n",
    "    return len(x)"
   ]
  },
  {
   "cell_type": "code",
   "execution_count": 14,
   "id": "15eb41c6",
   "metadata": {},
   "outputs": [],
   "source": [
    "df['char_counts'] = df['twitts'].apply(lambda x: charac_counts(str(x)))"
   ]
  },
  {
   "cell_type": "code",
   "execution_count": 15,
   "id": "b23ecf9a",
   "metadata": {},
   "outputs": [
    {
     "data": {
      "text/html": [
       "<div>\n",
       "<style scoped>\n",
       "    .dataframe tbody tr th:only-of-type {\n",
       "        vertical-align: middle;\n",
       "    }\n",
       "\n",
       "    .dataframe tbody tr th {\n",
       "        vertical-align: top;\n",
       "    }\n",
       "\n",
       "    .dataframe thead th {\n",
       "        text-align: right;\n",
       "    }\n",
       "</style>\n",
       "<table border=\"1\" class=\"dataframe\">\n",
       "  <thead>\n",
       "    <tr style=\"text-align: right;\">\n",
       "      <th></th>\n",
       "      <th>twitts</th>\n",
       "      <th>sentiment</th>\n",
       "      <th>word_count</th>\n",
       "      <th>char_counts</th>\n",
       "    </tr>\n",
       "  </thead>\n",
       "  <tbody>\n",
       "    <tr>\n",
       "      <th>0</th>\n",
       "      <td>is bored and wants to watch a movie  any sugge...</td>\n",
       "      <td>0</td>\n",
       "      <td>10</td>\n",
       "      <td>52</td>\n",
       "    </tr>\n",
       "    <tr>\n",
       "      <th>1</th>\n",
       "      <td>back in miami.  waiting to unboard ship</td>\n",
       "      <td>0</td>\n",
       "      <td>7</td>\n",
       "      <td>38</td>\n",
       "    </tr>\n",
       "    <tr>\n",
       "      <th>2</th>\n",
       "      <td>@misskpey awwww dnt dis brng bak memoriessss, ...</td>\n",
       "      <td>0</td>\n",
       "      <td>12</td>\n",
       "      <td>65</td>\n",
       "    </tr>\n",
       "    <tr>\n",
       "      <th>3</th>\n",
       "      <td>ughhh i am so tired  blahhhhhhhhh</td>\n",
       "      <td>0</td>\n",
       "      <td>6</td>\n",
       "      <td>32</td>\n",
       "    </tr>\n",
       "    <tr>\n",
       "      <th>4</th>\n",
       "      <td>@mandagoforth me bad! It's funny though. Zacha...</td>\n",
       "      <td>0</td>\n",
       "      <td>26</td>\n",
       "      <td>141</td>\n",
       "    </tr>\n",
       "  </tbody>\n",
       "</table>\n",
       "</div>"
      ],
      "text/plain": [
       "                                              twitts  sentiment  word_count  \\\n",
       "0  is bored and wants to watch a movie  any sugge...          0          10   \n",
       "1           back in miami.  waiting to unboard ship           0           7   \n",
       "2  @misskpey awwww dnt dis brng bak memoriessss, ...          0          12   \n",
       "3                  ughhh i am so tired  blahhhhhhhhh          0           6   \n",
       "4  @mandagoforth me bad! It's funny though. Zacha...          0          26   \n",
       "\n",
       "   char_counts  \n",
       "0           52  \n",
       "1           38  \n",
       "2           65  \n",
       "3           32  \n",
       "4          141  "
      ]
     },
     "execution_count": 15,
     "metadata": {},
     "output_type": "execute_result"
    }
   ],
   "source": [
    "df.head()"
   ]
  },
  {
   "cell_type": "code",
   "execution_count": 16,
   "id": "afd55adc",
   "metadata": {},
   "outputs": [],
   "source": [
    "#word_length = "
   ]
  },
  {
   "cell_type": "markdown",
   "id": "28633a35",
   "metadata": {},
   "source": [
    "# AVERAGE WORD LENGTH"
   ]
  },
  {
   "cell_type": "code",
   "execution_count": 17,
   "id": "93fc53a0",
   "metadata": {},
   "outputs": [
    {
     "data": {
      "text/html": [
       "<div>\n",
       "<style scoped>\n",
       "    .dataframe tbody tr th:only-of-type {\n",
       "        vertical-align: middle;\n",
       "    }\n",
       "\n",
       "    .dataframe tbody tr th {\n",
       "        vertical-align: top;\n",
       "    }\n",
       "\n",
       "    .dataframe thead th {\n",
       "        text-align: right;\n",
       "    }\n",
       "</style>\n",
       "<table border=\"1\" class=\"dataframe\">\n",
       "  <thead>\n",
       "    <tr style=\"text-align: right;\">\n",
       "      <th></th>\n",
       "      <th>twitts</th>\n",
       "      <th>sentiment</th>\n",
       "      <th>word_count</th>\n",
       "      <th>char_counts</th>\n",
       "      <th>average_word</th>\n",
       "    </tr>\n",
       "  </thead>\n",
       "  <tbody>\n",
       "    <tr>\n",
       "      <th>0</th>\n",
       "      <td>is bored and wants to watch a movie  any sugge...</td>\n",
       "      <td>0</td>\n",
       "      <td>10</td>\n",
       "      <td>52</td>\n",
       "      <td>5.200000</td>\n",
       "    </tr>\n",
       "    <tr>\n",
       "      <th>1</th>\n",
       "      <td>back in miami.  waiting to unboard ship</td>\n",
       "      <td>0</td>\n",
       "      <td>7</td>\n",
       "      <td>38</td>\n",
       "      <td>5.428571</td>\n",
       "    </tr>\n",
       "    <tr>\n",
       "      <th>2</th>\n",
       "      <td>@misskpey awwww dnt dis brng bak memoriessss, ...</td>\n",
       "      <td>0</td>\n",
       "      <td>12</td>\n",
       "      <td>65</td>\n",
       "      <td>5.416667</td>\n",
       "    </tr>\n",
       "    <tr>\n",
       "      <th>3</th>\n",
       "      <td>ughhh i am so tired  blahhhhhhhhh</td>\n",
       "      <td>0</td>\n",
       "      <td>6</td>\n",
       "      <td>32</td>\n",
       "      <td>5.333333</td>\n",
       "    </tr>\n",
       "    <tr>\n",
       "      <th>4</th>\n",
       "      <td>@mandagoforth me bad! It's funny though. Zacha...</td>\n",
       "      <td>0</td>\n",
       "      <td>26</td>\n",
       "      <td>141</td>\n",
       "      <td>5.423077</td>\n",
       "    </tr>\n",
       "  </tbody>\n",
       "</table>\n",
       "</div>"
      ],
      "text/plain": [
       "                                              twitts  sentiment  word_count  \\\n",
       "0  is bored and wants to watch a movie  any sugge...          0          10   \n",
       "1           back in miami.  waiting to unboard ship           0           7   \n",
       "2  @misskpey awwww dnt dis brng bak memoriessss, ...          0          12   \n",
       "3                  ughhh i am so tired  blahhhhhhhhh          0           6   \n",
       "4  @mandagoforth me bad! It's funny though. Zacha...          0          26   \n",
       "\n",
       "   char_counts  average_word  \n",
       "0           52      5.200000  \n",
       "1           38      5.428571  \n",
       "2           65      5.416667  \n",
       "3           32      5.333333  \n",
       "4          141      5.423077  "
      ]
     },
     "execution_count": 17,
     "metadata": {},
     "output_type": "execute_result"
    }
   ],
   "source": [
    "df['average_word'] = df['char_counts']/df['word_count']\n",
    "df.head()"
   ]
  },
  {
   "cell_type": "markdown",
   "id": "b5461ed8",
   "metadata": {},
   "source": [
    "# STOP WORD COUNTS"
   ]
  },
  {
   "cell_type": "code",
   "execution_count": 18,
   "id": "d38e3c83",
   "metadata": {},
   "outputs": [
    {
     "name": "stdout",
     "output_type": "stream",
     "text": [
      "{'only', \"i'll\", 'are', 'can', \"he'll\", 'myself', \"i'd\", 'more', 'have', 'ought', 'under', 'about', \"she'd\", 'to', 'hers', 'same', 'until', \"you'll\", 'also', 'as', 'otherwise', 'him', 'by', 'not', 'could', 'ever', 'through', 'out', 'yourself', \"they'll\", 'kaminski', 'like', 'where', 'each', 'below', \"they've\", 're', 'http', 'both', 'doing', 'ours', 'ourselves', \"why's\", \"we've\", \"weren't\", 'subject', 'some', 'this', 'yourselves', 'hence', \"you're\", 'since', 'www', 'you', 'was', 'who', 'before', \"i've\", 'against', 'at', 'these', \"when's\", 't', 'his', 'themselves', 'while', \"he's\", 'down', 'up', 'again', \"didn't\", 'she', 'get', 'few', \"aren't\", 'k', \"we're\", 'vince', \"she's\", \"it's\", \"you've\", 'very', 'enron', \"i'm\", 'its', 'on', 'over', 'or', \"that's\", 'they', 'a', 'our', \"how's\", \"they're\", 'being', 'been', 'he', 'then', \"who's\", 'having', 'be', 'when', 'how', 'theirs', 'i', 's', 'it', 'above', 'whom', \"wasn't\", \"hasn't\", 'too', \"won't\", 'no', 'however', 'should', \"don't\", 'were', \"there's\", 'therefore', 'than', \"let's\", 'will', 'of', 'which', 'my', 'those', 'itself', \"doesn't\", 'herself', 'cc', 'an', 'here', 'further', 'other', 'once', 'from', '1', 'do', 'yours', 'after', 'in', \"what's\", 'own', 'we', \"wouldn't\", \"she'll\", 'their', 'am', 'there', 'would', 'off', 'that', 'r', 'com', \"mustn't\", 'but', 'else', 'for', 'so', 'if', 'does', \"shouldn't\", \"we'll\", 'because', 'shall', 'just', 'most', 'your', 'such', \"shan't\", 'what', \"haven't\", 'her', 'is', 'with', 'the', 'all', 'e', 'between', \"they'd\", \"here's\", 'during', 'himself', 'into', 'had', 'any', \"hadn't\", \"you'd\", 'and', \"he'd\", \"couldn't\", 'nor', 'me', 'why', \"where's\", \"can't\", \"isn't\", 'has', \"we'd\", 'them', 'cannot', 'did'}\n"
     ]
    }
   ],
   "source": [
    "print(stopwords)"
   ]
  },
  {
   "cell_type": "code",
   "execution_count": 19,
   "id": "4ab9fefd",
   "metadata": {},
   "outputs": [],
   "source": [
    "#x = 'This is the text data'"
   ]
  },
  {
   "cell_type": "code",
   "execution_count": 20,
   "id": "4de66ee4",
   "metadata": {},
   "outputs": [],
   "source": [
    "#len([t for t in x.split() if t in stopwords])"
   ]
  },
  {
   "cell_type": "code",
   "execution_count": 21,
   "id": "62368bc5",
   "metadata": {},
   "outputs": [],
   "source": [
    "df['stopw_count'] = df['twitts'].apply(lambda x: len([t for t in x.split() if t in stopwords]))"
   ]
  },
  {
   "cell_type": "code",
   "execution_count": 22,
   "id": "c0d5a09d",
   "metadata": {},
   "outputs": [
    {
     "data": {
      "text/html": [
       "<div>\n",
       "<style scoped>\n",
       "    .dataframe tbody tr th:only-of-type {\n",
       "        vertical-align: middle;\n",
       "    }\n",
       "\n",
       "    .dataframe tbody tr th {\n",
       "        vertical-align: top;\n",
       "    }\n",
       "\n",
       "    .dataframe thead th {\n",
       "        text-align: right;\n",
       "    }\n",
       "</style>\n",
       "<table border=\"1\" class=\"dataframe\">\n",
       "  <thead>\n",
       "    <tr style=\"text-align: right;\">\n",
       "      <th></th>\n",
       "      <th>twitts</th>\n",
       "      <th>sentiment</th>\n",
       "      <th>word_count</th>\n",
       "      <th>char_counts</th>\n",
       "      <th>average_word</th>\n",
       "      <th>stopw_count</th>\n",
       "    </tr>\n",
       "  </thead>\n",
       "  <tbody>\n",
       "    <tr>\n",
       "      <th>0</th>\n",
       "      <td>is bored and wants to watch a movie  any sugge...</td>\n",
       "      <td>0</td>\n",
       "      <td>10</td>\n",
       "      <td>52</td>\n",
       "      <td>5.200000</td>\n",
       "      <td>5</td>\n",
       "    </tr>\n",
       "    <tr>\n",
       "      <th>1</th>\n",
       "      <td>back in miami.  waiting to unboard ship</td>\n",
       "      <td>0</td>\n",
       "      <td>7</td>\n",
       "      <td>38</td>\n",
       "      <td>5.428571</td>\n",
       "      <td>2</td>\n",
       "    </tr>\n",
       "    <tr>\n",
       "      <th>2</th>\n",
       "      <td>@misskpey awwww dnt dis brng bak memoriessss, ...</td>\n",
       "      <td>0</td>\n",
       "      <td>12</td>\n",
       "      <td>65</td>\n",
       "      <td>5.416667</td>\n",
       "      <td>0</td>\n",
       "    </tr>\n",
       "    <tr>\n",
       "      <th>3</th>\n",
       "      <td>ughhh i am so tired  blahhhhhhhhh</td>\n",
       "      <td>0</td>\n",
       "      <td>6</td>\n",
       "      <td>32</td>\n",
       "      <td>5.333333</td>\n",
       "      <td>3</td>\n",
       "    </tr>\n",
       "    <tr>\n",
       "      <th>4</th>\n",
       "      <td>@mandagoforth me bad! It's funny though. Zacha...</td>\n",
       "      <td>0</td>\n",
       "      <td>26</td>\n",
       "      <td>141</td>\n",
       "      <td>5.423077</td>\n",
       "      <td>12</td>\n",
       "    </tr>\n",
       "  </tbody>\n",
       "</table>\n",
       "</div>"
      ],
      "text/plain": [
       "                                              twitts  sentiment  word_count  \\\n",
       "0  is bored and wants to watch a movie  any sugge...          0          10   \n",
       "1           back in miami.  waiting to unboard ship           0           7   \n",
       "2  @misskpey awwww dnt dis brng bak memoriessss, ...          0          12   \n",
       "3                  ughhh i am so tired  blahhhhhhhhh          0           6   \n",
       "4  @mandagoforth me bad! It's funny though. Zacha...          0          26   \n",
       "\n",
       "   char_counts  average_word  stopw_count  \n",
       "0           52      5.200000            5  \n",
       "1           38      5.428571            2  \n",
       "2           65      5.416667            0  \n",
       "3           32      5.333333            3  \n",
       "4          141      5.423077           12  "
      ]
     },
     "execution_count": 22,
     "metadata": {},
     "output_type": "execute_result"
    }
   ],
   "source": [
    "df.head()"
   ]
  },
  {
   "cell_type": "markdown",
   "id": "2deacea0",
   "metadata": {},
   "source": [
    "# COUNT @Hashtags and @Mention"
   ]
  },
  {
   "cell_type": "code",
   "execution_count": 23,
   "id": "ac140ea2",
   "metadata": {},
   "outputs": [
    {
     "data": {
      "text/plain": [
       "['@ankush', 'is', '#awesome']"
      ]
     },
     "execution_count": 23,
     "metadata": {},
     "output_type": "execute_result"
    }
   ],
   "source": [
    "x = '@ankush is #awesome'\n",
    "x.split()"
   ]
  },
  {
   "cell_type": "code",
   "execution_count": 24,
   "id": "9bb2c091",
   "metadata": {},
   "outputs": [
    {
     "data": {
      "text/plain": [
       "1"
      ]
     },
     "execution_count": 24,
     "metadata": {},
     "output_type": "execute_result"
    }
   ],
   "source": [
    "len([t for t in  x.split() if t.startswith('@')])"
   ]
  },
  {
   "cell_type": "code",
   "execution_count": 25,
   "id": "12c34f50",
   "metadata": {},
   "outputs": [],
   "source": [
    "df['@mention_count'] = df['twitts'].apply(lambda x: len([t for t in  x.split() if t.startswith('@')]))"
   ]
  },
  {
   "cell_type": "code",
   "execution_count": 26,
   "id": "5c8102fb",
   "metadata": {},
   "outputs": [],
   "source": [
    "df['hash'] = df['twitts'].apply(lambda x: len([t for t in  x.split() if t.startswith('#')]))"
   ]
  },
  {
   "cell_type": "code",
   "execution_count": 27,
   "id": "002fd203",
   "metadata": {},
   "outputs": [
    {
     "data": {
      "text/html": [
       "<div>\n",
       "<style scoped>\n",
       "    .dataframe tbody tr th:only-of-type {\n",
       "        vertical-align: middle;\n",
       "    }\n",
       "\n",
       "    .dataframe tbody tr th {\n",
       "        vertical-align: top;\n",
       "    }\n",
       "\n",
       "    .dataframe thead th {\n",
       "        text-align: right;\n",
       "    }\n",
       "</style>\n",
       "<table border=\"1\" class=\"dataframe\">\n",
       "  <thead>\n",
       "    <tr style=\"text-align: right;\">\n",
       "      <th></th>\n",
       "      <th>twitts</th>\n",
       "      <th>sentiment</th>\n",
       "      <th>word_count</th>\n",
       "      <th>char_counts</th>\n",
       "      <th>average_word</th>\n",
       "      <th>stopw_count</th>\n",
       "      <th>@mention_count</th>\n",
       "      <th>hash</th>\n",
       "    </tr>\n",
       "  </thead>\n",
       "  <tbody>\n",
       "    <tr>\n",
       "      <th>0</th>\n",
       "      <td>is bored and wants to watch a movie  any sugge...</td>\n",
       "      <td>0</td>\n",
       "      <td>10</td>\n",
       "      <td>52</td>\n",
       "      <td>5.200000</td>\n",
       "      <td>5</td>\n",
       "      <td>0</td>\n",
       "      <td>0</td>\n",
       "    </tr>\n",
       "    <tr>\n",
       "      <th>1</th>\n",
       "      <td>back in miami.  waiting to unboard ship</td>\n",
       "      <td>0</td>\n",
       "      <td>7</td>\n",
       "      <td>38</td>\n",
       "      <td>5.428571</td>\n",
       "      <td>2</td>\n",
       "      <td>0</td>\n",
       "      <td>0</td>\n",
       "    </tr>\n",
       "    <tr>\n",
       "      <th>2</th>\n",
       "      <td>@misskpey awwww dnt dis brng bak memoriessss, ...</td>\n",
       "      <td>0</td>\n",
       "      <td>12</td>\n",
       "      <td>65</td>\n",
       "      <td>5.416667</td>\n",
       "      <td>0</td>\n",
       "      <td>1</td>\n",
       "      <td>0</td>\n",
       "    </tr>\n",
       "    <tr>\n",
       "      <th>3</th>\n",
       "      <td>ughhh i am so tired  blahhhhhhhhh</td>\n",
       "      <td>0</td>\n",
       "      <td>6</td>\n",
       "      <td>32</td>\n",
       "      <td>5.333333</td>\n",
       "      <td>3</td>\n",
       "      <td>0</td>\n",
       "      <td>0</td>\n",
       "    </tr>\n",
       "    <tr>\n",
       "      <th>4</th>\n",
       "      <td>@mandagoforth me bad! It's funny though. Zacha...</td>\n",
       "      <td>0</td>\n",
       "      <td>26</td>\n",
       "      <td>141</td>\n",
       "      <td>5.423077</td>\n",
       "      <td>12</td>\n",
       "      <td>2</td>\n",
       "      <td>0</td>\n",
       "    </tr>\n",
       "  </tbody>\n",
       "</table>\n",
       "</div>"
      ],
      "text/plain": [
       "                                              twitts  sentiment  word_count  \\\n",
       "0  is bored and wants to watch a movie  any sugge...          0          10   \n",
       "1           back in miami.  waiting to unboard ship           0           7   \n",
       "2  @misskpey awwww dnt dis brng bak memoriessss, ...          0          12   \n",
       "3                  ughhh i am so tired  blahhhhhhhhh          0           6   \n",
       "4  @mandagoforth me bad! It's funny though. Zacha...          0          26   \n",
       "\n",
       "   char_counts  average_word  stopw_count  @mention_count  hash  \n",
       "0           52      5.200000            5               0     0  \n",
       "1           38      5.428571            2               0     0  \n",
       "2           65      5.416667            0               1     0  \n",
       "3           32      5.333333            3               0     0  \n",
       "4          141      5.423077           12               2     0  "
      ]
     },
     "execution_count": 27,
     "metadata": {},
     "output_type": "execute_result"
    }
   ],
   "source": [
    "df.head()"
   ]
  },
  {
   "cell_type": "markdown",
   "id": "779d25a7",
   "metadata": {},
   "source": [
    "# NUMERIC DIGITS"
   ]
  },
  {
   "cell_type": "code",
   "execution_count": 28,
   "id": "b106e771",
   "metadata": {},
   "outputs": [
    {
     "data": {
      "text/plain": [
       "['This', 'is', 'number', '9']"
      ]
     },
     "execution_count": 28,
     "metadata": {},
     "output_type": "execute_result"
    }
   ],
   "source": [
    "x = \"This is number 9\"\n",
    "x.split()"
   ]
  },
  {
   "cell_type": "code",
   "execution_count": 29,
   "id": "63c54557",
   "metadata": {},
   "outputs": [],
   "source": [
    "df['numeric_count'] = df['twitts'].apply(lambda x: len([t for t in x.split() if t.isdigit()]))"
   ]
  },
  {
   "cell_type": "code",
   "execution_count": 30,
   "id": "4b2e408c",
   "metadata": {},
   "outputs": [
    {
     "data": {
      "text/html": [
       "<div>\n",
       "<style scoped>\n",
       "    .dataframe tbody tr th:only-of-type {\n",
       "        vertical-align: middle;\n",
       "    }\n",
       "\n",
       "    .dataframe tbody tr th {\n",
       "        vertical-align: top;\n",
       "    }\n",
       "\n",
       "    .dataframe thead th {\n",
       "        text-align: right;\n",
       "    }\n",
       "</style>\n",
       "<table border=\"1\" class=\"dataframe\">\n",
       "  <thead>\n",
       "    <tr style=\"text-align: right;\">\n",
       "      <th></th>\n",
       "      <th>twitts</th>\n",
       "      <th>sentiment</th>\n",
       "      <th>word_count</th>\n",
       "      <th>char_counts</th>\n",
       "      <th>average_word</th>\n",
       "      <th>stopw_count</th>\n",
       "      <th>@mention_count</th>\n",
       "      <th>hash</th>\n",
       "      <th>numeric_count</th>\n",
       "    </tr>\n",
       "  </thead>\n",
       "  <tbody>\n",
       "    <tr>\n",
       "      <th>53</th>\n",
       "      <td>@Gen215 ROFL following Jesus! Found 1 th othr ...</td>\n",
       "      <td>0</td>\n",
       "      <td>29</td>\n",
       "      <td>137</td>\n",
       "      <td>4.724138</td>\n",
       "      <td>9</td>\n",
       "      <td>1</td>\n",
       "      <td>0</td>\n",
       "      <td>3</td>\n",
       "    </tr>\n",
       "    <tr>\n",
       "      <th>125</th>\n",
       "      <td>@MasterAwesome 23 almost 24   im an old lady</td>\n",
       "      <td>0</td>\n",
       "      <td>8</td>\n",
       "      <td>42</td>\n",
       "      <td>5.250000</td>\n",
       "      <td>1</td>\n",
       "      <td>1</td>\n",
       "      <td>0</td>\n",
       "      <td>2</td>\n",
       "    </tr>\n",
       "    <tr>\n",
       "      <th>174</th>\n",
       "      <td>ohhh 2 write bak 2 ppl u hav 2 put their names...</td>\n",
       "      <td>0</td>\n",
       "      <td>32</td>\n",
       "      <td>137</td>\n",
       "      <td>4.281250</td>\n",
       "      <td>8</td>\n",
       "      <td>0</td>\n",
       "      <td>0</td>\n",
       "      <td>4</td>\n",
       "    </tr>\n",
       "    <tr>\n",
       "      <th>209</th>\n",
       "      <td>AT&amp;amp;T: &amp;quot;you have 4 bars of 3G. oh wait...</td>\n",
       "      <td>0</td>\n",
       "      <td>22</td>\n",
       "      <td>126</td>\n",
       "      <td>5.727273</td>\n",
       "      <td>7</td>\n",
       "      <td>0</td>\n",
       "      <td>0</td>\n",
       "      <td>2</td>\n",
       "    </tr>\n",
       "    <tr>\n",
       "      <th>278</th>\n",
       "      <td>Listenin 2 a bunch of janet's old slow songs w...</td>\n",
       "      <td>0</td>\n",
       "      <td>21</td>\n",
       "      <td>100</td>\n",
       "      <td>4.761905</td>\n",
       "      <td>5</td>\n",
       "      <td>0</td>\n",
       "      <td>0</td>\n",
       "      <td>2</td>\n",
       "    </tr>\n",
       "    <tr>\n",
       "      <th>...</th>\n",
       "      <td>...</td>\n",
       "      <td>...</td>\n",
       "      <td>...</td>\n",
       "      <td>...</td>\n",
       "      <td>...</td>\n",
       "      <td>...</td>\n",
       "      <td>...</td>\n",
       "      <td>...</td>\n",
       "      <td>...</td>\n",
       "    </tr>\n",
       "    <tr>\n",
       "      <th>3536</th>\n",
       "      <td>@ashleytisdale good luck 4 the MMA  u,mils&amp;amp...</td>\n",
       "      <td>1</td>\n",
       "      <td>20</td>\n",
       "      <td>122</td>\n",
       "      <td>6.100000</td>\n",
       "      <td>5</td>\n",
       "      <td>1</td>\n",
       "      <td>0</td>\n",
       "      <td>2</td>\n",
       "    </tr>\n",
       "    <tr>\n",
       "      <th>3556</th>\n",
       "      <td>@djbriancua yeah thats a good start. back then...</td>\n",
       "      <td>1</td>\n",
       "      <td>28</td>\n",
       "      <td>136</td>\n",
       "      <td>4.857143</td>\n",
       "      <td>12</td>\n",
       "      <td>1</td>\n",
       "      <td>0</td>\n",
       "      <td>2</td>\n",
       "    </tr>\n",
       "    <tr>\n",
       "      <th>3577</th>\n",
       "      <td>@jaime_fox @jason_mcintyre  Sorry abt game 1 S...</td>\n",
       "      <td>1</td>\n",
       "      <td>25</td>\n",
       "      <td>134</td>\n",
       "      <td>5.360000</td>\n",
       "      <td>7</td>\n",
       "      <td>2</td>\n",
       "      <td>0</td>\n",
       "      <td>2</td>\n",
       "    </tr>\n",
       "    <tr>\n",
       "      <th>3578</th>\n",
       "      <td>@sergeb very cool! Always nice to hear 2 of my...</td>\n",
       "      <td>1</td>\n",
       "      <td>16</td>\n",
       "      <td>83</td>\n",
       "      <td>5.187500</td>\n",
       "      <td>4</td>\n",
       "      <td>1</td>\n",
       "      <td>0</td>\n",
       "      <td>2</td>\n",
       "    </tr>\n",
       "    <tr>\n",
       "      <th>3951</th>\n",
       "      <td>I am soo very parched. And hungry. Oh and I'm ...</td>\n",
       "      <td>1</td>\n",
       "      <td>21</td>\n",
       "      <td>107</td>\n",
       "      <td>5.095238</td>\n",
       "      <td>6</td>\n",
       "      <td>0</td>\n",
       "      <td>0</td>\n",
       "      <td>2</td>\n",
       "    </tr>\n",
       "  </tbody>\n",
       "</table>\n",
       "<p>45 rows × 9 columns</p>\n",
       "</div>"
      ],
      "text/plain": [
       "                                                 twitts  sentiment  \\\n",
       "53    @Gen215 ROFL following Jesus! Found 1 th othr ...          0   \n",
       "125        @MasterAwesome 23 almost 24   im an old lady          0   \n",
       "174   ohhh 2 write bak 2 ppl u hav 2 put their names...          0   \n",
       "209   AT&amp;T: &quot;you have 4 bars of 3G. oh wait...          0   \n",
       "278   Listenin 2 a bunch of janet's old slow songs w...          0   \n",
       "...                                                 ...        ...   \n",
       "3536  @ashleytisdale good luck 4 the MMA  u,mils&amp...          1   \n",
       "3556  @djbriancua yeah thats a good start. back then...          1   \n",
       "3577  @jaime_fox @jason_mcintyre  Sorry abt game 1 S...          1   \n",
       "3578  @sergeb very cool! Always nice to hear 2 of my...          1   \n",
       "3951  I am soo very parched. And hungry. Oh and I'm ...          1   \n",
       "\n",
       "      word_count  char_counts  average_word  stopw_count  @mention_count  \\\n",
       "53            29          137      4.724138            9               1   \n",
       "125            8           42      5.250000            1               1   \n",
       "174           32          137      4.281250            8               0   \n",
       "209           22          126      5.727273            7               0   \n",
       "278           21          100      4.761905            5               0   \n",
       "...          ...          ...           ...          ...             ...   \n",
       "3536          20          122      6.100000            5               1   \n",
       "3556          28          136      4.857143           12               1   \n",
       "3577          25          134      5.360000            7               2   \n",
       "3578          16           83      5.187500            4               1   \n",
       "3951          21          107      5.095238            6               0   \n",
       "\n",
       "      hash  numeric_count  \n",
       "53       0              3  \n",
       "125      0              2  \n",
       "174      0              4  \n",
       "209      0              2  \n",
       "278      0              2  \n",
       "...    ...            ...  \n",
       "3536     0              2  \n",
       "3556     0              2  \n",
       "3577     0              2  \n",
       "3578     0              2  \n",
       "3951     0              2  \n",
       "\n",
       "[45 rows x 9 columns]"
      ]
     },
     "execution_count": 30,
     "metadata": {},
     "output_type": "execute_result"
    }
   ],
   "source": [
    "df[df['numeric_count'] > 1]"
   ]
  },
  {
   "cell_type": "markdown",
   "id": "ab3184f3",
   "metadata": {},
   "source": [
    "# UPPER  WORD COUNT"
   ]
  },
  {
   "cell_type": "code",
   "execution_count": 31,
   "id": "555a7c14",
   "metadata": {},
   "outputs": [
    {
     "data": {
      "text/plain": [
       "['THIS', 'IS', 'NUMBER', '9']"
      ]
     },
     "execution_count": 31,
     "metadata": {},
     "output_type": "execute_result"
    }
   ],
   "source": [
    "x = \"THIS IS NUMBER 9\"\n",
    "x.split()"
   ]
  },
  {
   "cell_type": "code",
   "execution_count": 32,
   "id": "44bdde60",
   "metadata": {},
   "outputs": [
    {
     "data": {
      "text/plain": [
       "3"
      ]
     },
     "execution_count": 32,
     "metadata": {},
     "output_type": "execute_result"
    }
   ],
   "source": [
    "len([t for t in  x.split() if t.isupper()])"
   ]
  },
  {
   "cell_type": "code",
   "execution_count": 33,
   "id": "f37ff1ae",
   "metadata": {},
   "outputs": [],
   "source": [
    "df['upperw_count'] = df['twitts'].apply(lambda x: len([t for t in x.split() if t.isupper()]))"
   ]
  },
  {
   "cell_type": "code",
   "execution_count": 34,
   "id": "13b09f1c",
   "metadata": {},
   "outputs": [
    {
     "data": {
      "text/plain": [
       "\"@misskpey awwww dnt dis brng bak memoriessss,  I thnk I'm sad. LoL\""
      ]
     },
     "execution_count": 34,
     "metadata": {},
     "output_type": "execute_result"
    }
   ],
   "source": [
    "df['twitts'][2]\n"
   ]
  },
  {
   "cell_type": "markdown",
   "id": "75a6215a",
   "metadata": {},
   "source": [
    "# LOWER CASE CONVERSION"
   ]
  },
  {
   "cell_type": "code",
   "execution_count": 35,
   "id": "19fcf75b",
   "metadata": {},
   "outputs": [],
   "source": [
    "##LOWERCASE\n",
    "df['lower_case'] = df['twitts'].apply(lambda x: len([t for t in str(x).lower()]))"
   ]
  },
  {
   "cell_type": "markdown",
   "id": "c5988133",
   "metadata": {},
   "source": [
    "# CONTRACTIONS"
   ]
  },
  {
   "cell_type": "code",
   "execution_count": 36,
   "id": "cb3c8c0d",
   "metadata": {},
   "outputs": [
    {
     "name": "stdout",
     "output_type": "stream",
     "text": [
      "['contractions.txt', 'contractions.json', 'nomi.txt', 'README.md', '.git']\n"
     ]
    }
   ],
   "source": [
    "print(os.listdir('/Users/ankushsingal/Desktop/Natural_language_processing/Codes/Complete Text Processing/contractions'))"
   ]
  },
  {
   "cell_type": "code",
   "execution_count": 37,
   "id": "dd4b206f",
   "metadata": {},
   "outputs": [],
   "source": [
    "with open('/Users/ankushsingal/Desktop/Natural_language_processing/Codes/Complete Text Processing/contractions/contractions.json', 'r') as f:\n",
    "    contractions = json.load(f)"
   ]
  },
  {
   "cell_type": "code",
   "execution_count": 38,
   "id": "9042d1ea",
   "metadata": {},
   "outputs": [],
   "source": [
    "#contractions"
   ]
  },
  {
   "cell_type": "code",
   "execution_count": 39,
   "id": "eb5252fa",
   "metadata": {},
   "outputs": [],
   "source": [
    "contractions = { \n",
    "\"ain't\": \"am not\",\n",
    "\"aren't\": \"are not\",\n",
    "\"can't\": \"cannot\",\n",
    "\"can't've\": \"cannot have\",\n",
    "\"'cause\": \"because\",\n",
    "\"could've\": \"could have\",\n",
    "\"couldn't\": \"could not\",\n",
    "\"couldn't've\": \"could not have\",\n",
    "\"didn't\": \"did not\",\n",
    "\"doesn't\": \"does not\",\n",
    "\"don't\": \"do not\",\n",
    "\"hadn't\": \"had not\",\n",
    "\"hadn't've\": \"had not have\",\n",
    "\"hasn't\": \"has not\",\n",
    "\"haven't\": \"have not\",\n",
    "\"he'd\": \"he would\",\n",
    "\"he'd've\": \"he would have\",\n",
    "\"he'll\": \"he will\",\n",
    "\"he'll've\": \"he will have\",\n",
    "\"he's\": \"he is\",\n",
    "\"how'd\": \"how did\",\n",
    "\"how'd'y\": \"how do you\",\n",
    "\"how'll\": \"how will\",\n",
    "\"how's\": \"how does\",\n",
    "\"i'd\": \"i would\",\n",
    "\"i'd've\": \"i would have\",\n",
    "\"i'll\": \"i will\",\n",
    "\"i'll've\": \"i will have\",\n",
    "\"i'm\": \"i am\",\n",
    "\"i've\": \"i have\",\n",
    "\"isn't\": \"is not\",\n",
    "\"it'd\": \"it would\",\n",
    "\"it'd've\": \"it would have\",\n",
    "\"it'll\": \"it will\",\n",
    "\"it'll've\": \"it will have\",\n",
    "\"it's\": \"it is\",\n",
    "\"let's\": \"let us\",\n",
    "\"ma'am\": \"madam\",\n",
    "\"mayn't\": \"may not\",\n",
    "\"might've\": \"might have\",\n",
    "\"mightn't\": \"might not\",\n",
    "\"mightn't've\": \"might not have\",\n",
    "\"must've\": \"must have\",\n",
    "\"mustn't\": \"must not\",\n",
    "\"mustn't've\": \"must not have\",\n",
    "\"needn't\": \"need not\",\n",
    "\"needn't've\": \"need not have\",\n",
    "\"o'clock\": \"of the clock\",\n",
    "\"oughtn't\": \"ought not\",\n",
    "\"oughtn't've\": \"ought not have\",\n",
    "\"shan't\": \"shall not\",\n",
    "\"sha'n't\": \"shall not\",\n",
    "\"shan't've\": \"shall not have\",\n",
    "\"she'd\": \"she would\",\n",
    "\"she'd've\": \"she would have\",\n",
    "\"she'll\": \"she will\",\n",
    "\"she'll've\": \"she will have\",\n",
    "\"she's\": \"she is\",\n",
    "\"should've\": \"should have\",\n",
    "\"shouldn't\": \"should not\",\n",
    "\"shouldn't've\": \"should not have\",\n",
    "\"so've\": \"so have\",\n",
    "\"so's\": \"so is\",\n",
    "\"that'd\": \"that would\",\n",
    "\"that'd've\": \"that would have\",\n",
    "\"that's\": \"that is\",\n",
    "\"there'd\": \"there would\",\n",
    "\"there'd've\": \"there would have\",\n",
    "\"there's\": \"there is\",\n",
    "\"they'd\": \"they would\",\n",
    "\"they'd've\": \"they would have\",\n",
    "\"they'll\": \"they will\",\n",
    "\"they'll've\": \"they will have\",\n",
    "\"they're\": \"they are\",\n",
    "\"they've\": \"they have\",\n",
    "\"to've\": \"to have\",\n",
    "\"wasn't\": \"was not\",\n",
    "\" u \": \" you \",\n",
    "\" ur \": \" your \",\n",
    "\" n \": \" and \",\n",
    "\"won't\": \"would not\",\n",
    "'dis': 'this',\n",
    "'bak': 'back',\n",
    "'brng': 'bring'}"
   ]
  },
  {
   "cell_type": "code",
   "execution_count": 40,
   "id": "e22914cc",
   "metadata": {},
   "outputs": [],
   "source": [
    "def cont_to_exp(x):\n",
    "    if isinstance(x,str):\n",
    "        for key in contractions:\n",
    "            value = contractions[key]\n",
    "            x = x.replace(key, str(value))\n",
    "        return x\n",
    "    else:\n",
    "        return x\n",
    "    \n",
    "    "
   ]
  },
  {
   "cell_type": "code",
   "execution_count": 41,
   "id": "3ef86101",
   "metadata": {},
   "outputs": [],
   "source": [
    "x = \"i'm don't he'll\""
   ]
  },
  {
   "cell_type": "code",
   "execution_count": 42,
   "id": "fa7c12e0",
   "metadata": {},
   "outputs": [],
   "source": [
    "df['twitts'] = df['twitts'].str.lower()"
   ]
  },
  {
   "cell_type": "code",
   "execution_count": 43,
   "id": "a7f88284",
   "metadata": {},
   "outputs": [
    {
     "data": {
      "text/plain": [
       "'i am do not he will'"
      ]
     },
     "execution_count": 43,
     "metadata": {},
     "output_type": "execute_result"
    }
   ],
   "source": [
    "cont_to_exp(x)"
   ]
  },
  {
   "cell_type": "code",
   "execution_count": 44,
   "id": "35d985be",
   "metadata": {},
   "outputs": [
    {
     "name": "stdout",
     "output_type": "stream",
     "text": [
      "101 ms ± 2.76 ms per loop (mean ± std. dev. of 7 runs, 10 loops each)\n"
     ]
    }
   ],
   "source": [
    "%%timeit\n",
    "df['twitts'] = df['twitts'].apply(lambda x: cont_to_exp(x))"
   ]
  },
  {
   "cell_type": "code",
   "execution_count": 45,
   "id": "f0ac45a6",
   "metadata": {},
   "outputs": [
    {
     "data": {
      "text/html": [
       "<div>\n",
       "<style scoped>\n",
       "    .dataframe tbody tr th:only-of-type {\n",
       "        vertical-align: middle;\n",
       "    }\n",
       "\n",
       "    .dataframe tbody tr th {\n",
       "        vertical-align: top;\n",
       "    }\n",
       "\n",
       "    .dataframe thead th {\n",
       "        text-align: right;\n",
       "    }\n",
       "</style>\n",
       "<table border=\"1\" class=\"dataframe\">\n",
       "  <thead>\n",
       "    <tr style=\"text-align: right;\">\n",
       "      <th></th>\n",
       "      <th>twitts</th>\n",
       "      <th>sentiment</th>\n",
       "      <th>word_count</th>\n",
       "      <th>char_counts</th>\n",
       "      <th>average_word</th>\n",
       "      <th>stopw_count</th>\n",
       "      <th>@mention_count</th>\n",
       "      <th>hash</th>\n",
       "      <th>numeric_count</th>\n",
       "      <th>upperw_count</th>\n",
       "      <th>lower_case</th>\n",
       "    </tr>\n",
       "  </thead>\n",
       "  <tbody>\n",
       "    <tr>\n",
       "      <th>0</th>\n",
       "      <td>is bored and wants to watch a movie  any sugge...</td>\n",
       "      <td>0</td>\n",
       "      <td>10</td>\n",
       "      <td>52</td>\n",
       "      <td>5.200000</td>\n",
       "      <td>5</td>\n",
       "      <td>0</td>\n",
       "      <td>0</td>\n",
       "      <td>0</td>\n",
       "      <td>0</td>\n",
       "      <td>53</td>\n",
       "    </tr>\n",
       "    <tr>\n",
       "      <th>1</th>\n",
       "      <td>back in miami.  waiting to unboard ship</td>\n",
       "      <td>0</td>\n",
       "      <td>7</td>\n",
       "      <td>38</td>\n",
       "      <td>5.428571</td>\n",
       "      <td>2</td>\n",
       "      <td>0</td>\n",
       "      <td>0</td>\n",
       "      <td>0</td>\n",
       "      <td>0</td>\n",
       "      <td>40</td>\n",
       "    </tr>\n",
       "    <tr>\n",
       "      <th>2</th>\n",
       "      <td>@misskpey awwww dnt this bring back memoriesss...</td>\n",
       "      <td>0</td>\n",
       "      <td>12</td>\n",
       "      <td>65</td>\n",
       "      <td>5.416667</td>\n",
       "      <td>0</td>\n",
       "      <td>1</td>\n",
       "      <td>0</td>\n",
       "      <td>0</td>\n",
       "      <td>1</td>\n",
       "      <td>66</td>\n",
       "    </tr>\n",
       "    <tr>\n",
       "      <th>3</th>\n",
       "      <td>ughhh i am so tired  blahhhhhhhhh</td>\n",
       "      <td>0</td>\n",
       "      <td>6</td>\n",
       "      <td>32</td>\n",
       "      <td>5.333333</td>\n",
       "      <td>3</td>\n",
       "      <td>0</td>\n",
       "      <td>0</td>\n",
       "      <td>0</td>\n",
       "      <td>0</td>\n",
       "      <td>33</td>\n",
       "    </tr>\n",
       "    <tr>\n",
       "      <th>4</th>\n",
       "      <td>@mandagoforth me bad! it is funny though. zach...</td>\n",
       "      <td>0</td>\n",
       "      <td>26</td>\n",
       "      <td>141</td>\n",
       "      <td>5.423077</td>\n",
       "      <td>12</td>\n",
       "      <td>2</td>\n",
       "      <td>0</td>\n",
       "      <td>0</td>\n",
       "      <td>0</td>\n",
       "      <td>142</td>\n",
       "    </tr>\n",
       "  </tbody>\n",
       "</table>\n",
       "</div>"
      ],
      "text/plain": [
       "                                              twitts  sentiment  word_count  \\\n",
       "0  is bored and wants to watch a movie  any sugge...          0          10   \n",
       "1           back in miami.  waiting to unboard ship           0           7   \n",
       "2  @misskpey awwww dnt this bring back memoriesss...          0          12   \n",
       "3                  ughhh i am so tired  blahhhhhhhhh          0           6   \n",
       "4  @mandagoforth me bad! it is funny though. zach...          0          26   \n",
       "\n",
       "   char_counts  average_word  stopw_count  @mention_count  hash  \\\n",
       "0           52      5.200000            5               0     0   \n",
       "1           38      5.428571            2               0     0   \n",
       "2           65      5.416667            0               1     0   \n",
       "3           32      5.333333            3               0     0   \n",
       "4          141      5.423077           12               2     0   \n",
       "\n",
       "   numeric_count  upperw_count  lower_case  \n",
       "0              0             0          53  \n",
       "1              0             0          40  \n",
       "2              0             1          66  \n",
       "3              0             0          33  \n",
       "4              0             0         142  "
      ]
     },
     "execution_count": 45,
     "metadata": {},
     "output_type": "execute_result"
    }
   ],
   "source": [
    "df.head(5)"
   ]
  },
  {
   "cell_type": "markdown",
   "id": "7712e199",
   "metadata": {},
   "source": [
    "# COUNT AND REMOVE EMAILS"
   ]
  },
  {
   "cell_type": "code",
   "execution_count": 46,
   "id": "f4c83900",
   "metadata": {},
   "outputs": [
    {
     "data": {
      "text/html": [
       "<div>\n",
       "<style scoped>\n",
       "    .dataframe tbody tr th:only-of-type {\n",
       "        vertical-align: middle;\n",
       "    }\n",
       "\n",
       "    .dataframe tbody tr th {\n",
       "        vertical-align: top;\n",
       "    }\n",
       "\n",
       "    .dataframe thead th {\n",
       "        text-align: right;\n",
       "    }\n",
       "</style>\n",
       "<table border=\"1\" class=\"dataframe\">\n",
       "  <thead>\n",
       "    <tr style=\"text-align: right;\">\n",
       "      <th></th>\n",
       "      <th>twitts</th>\n",
       "      <th>sentiment</th>\n",
       "      <th>word_count</th>\n",
       "      <th>char_counts</th>\n",
       "      <th>average_word</th>\n",
       "      <th>stopw_count</th>\n",
       "      <th>@mention_count</th>\n",
       "      <th>hash</th>\n",
       "      <th>numeric_count</th>\n",
       "      <th>upperw_count</th>\n",
       "      <th>lower_case</th>\n",
       "    </tr>\n",
       "  </thead>\n",
       "  <tbody>\n",
       "    <tr>\n",
       "      <th>3713</th>\n",
       "      <td>@securerecs arghh me please  markbradbury_16@h...</td>\n",
       "      <td>1</td>\n",
       "      <td>5</td>\n",
       "      <td>55</td>\n",
       "      <td>11.0</td>\n",
       "      <td>0</td>\n",
       "      <td>1</td>\n",
       "      <td>0</td>\n",
       "      <td>0</td>\n",
       "      <td>0</td>\n",
       "      <td>56</td>\n",
       "    </tr>\n",
       "  </tbody>\n",
       "</table>\n",
       "</div>"
      ],
      "text/plain": [
       "                                                 twitts  sentiment  \\\n",
       "3713  @securerecs arghh me please  markbradbury_16@h...          1   \n",
       "\n",
       "      word_count  char_counts  average_word  stopw_count  @mention_count  \\\n",
       "3713           5           55          11.0            0               1   \n",
       "\n",
       "      hash  numeric_count  upperw_count  lower_case  \n",
       "3713     0              0             0          56  "
      ]
     },
     "execution_count": 46,
     "metadata": {},
     "output_type": "execute_result"
    }
   ],
   "source": [
    "df[df['twitts'].str.contains('hotmail.com')]"
   ]
  },
  {
   "cell_type": "code",
   "execution_count": 47,
   "id": "0fa12fb9",
   "metadata": {},
   "outputs": [
    {
     "data": {
      "text/plain": [
       "'@securerecs arghh me please  markbradbury_16@hotmail.com'"
      ]
     },
     "execution_count": 47,
     "metadata": {},
     "output_type": "execute_result"
    }
   ],
   "source": [
    "df.iloc[3713].twitts"
   ]
  },
  {
   "cell_type": "code",
   "execution_count": 48,
   "id": "7f9e57e1",
   "metadata": {},
   "outputs": [],
   "source": [
    "import re"
   ]
  },
  {
   "cell_type": "code",
   "execution_count": 49,
   "id": "c24ce4ab",
   "metadata": {},
   "outputs": [],
   "source": [
    "\n",
    "x= '@securerecs arghh Me Please  markbradbury_16@hotmail.com'"
   ]
  },
  {
   "cell_type": "code",
   "execution_count": 50,
   "id": "a0da8317",
   "metadata": {},
   "outputs": [],
   "source": [
    "pattern = r'\\b\\w+@\\w+\\.\\w+'"
   ]
  },
  {
   "cell_type": "code",
   "execution_count": 51,
   "id": "1fd829e1",
   "metadata": {},
   "outputs": [
    {
     "data": {
      "text/plain": [
       "['markbradbury_16@hotmail.com']"
      ]
     },
     "execution_count": 51,
     "metadata": {},
     "output_type": "execute_result"
    }
   ],
   "source": [
    "re.findall( r'\\b\\w+@\\w+\\.\\w+',x)"
   ]
  },
  {
   "cell_type": "code",
   "execution_count": 52,
   "id": "fafabb53",
   "metadata": {},
   "outputs": [],
   "source": [
    "df['emails'] = df['twitts'].apply(lambda x:re.findall( r'\\w+@\\w+\\.\\w+',x))"
   ]
  },
  {
   "cell_type": "code",
   "execution_count": 53,
   "id": "1f1b85bf",
   "metadata": {},
   "outputs": [],
   "source": [
    "df['emails_count'] = df['emails'].apply(lambda x: len(x))"
   ]
  },
  {
   "cell_type": "code",
   "execution_count": 54,
   "id": "9849936f",
   "metadata": {},
   "outputs": [
    {
     "data": {
      "text/html": [
       "<div>\n",
       "<style scoped>\n",
       "    .dataframe tbody tr th:only-of-type {\n",
       "        vertical-align: middle;\n",
       "    }\n",
       "\n",
       "    .dataframe tbody tr th {\n",
       "        vertical-align: top;\n",
       "    }\n",
       "\n",
       "    .dataframe thead th {\n",
       "        text-align: right;\n",
       "    }\n",
       "</style>\n",
       "<table border=\"1\" class=\"dataframe\">\n",
       "  <thead>\n",
       "    <tr style=\"text-align: right;\">\n",
       "      <th></th>\n",
       "      <th>twitts</th>\n",
       "      <th>sentiment</th>\n",
       "      <th>word_count</th>\n",
       "      <th>char_counts</th>\n",
       "      <th>average_word</th>\n",
       "      <th>stopw_count</th>\n",
       "      <th>@mention_count</th>\n",
       "      <th>hash</th>\n",
       "      <th>numeric_count</th>\n",
       "      <th>upperw_count</th>\n",
       "      <th>lower_case</th>\n",
       "      <th>emails</th>\n",
       "      <th>emails_count</th>\n",
       "    </tr>\n",
       "  </thead>\n",
       "  <tbody>\n",
       "    <tr>\n",
       "      <th>3713</th>\n",
       "      <td>@securerecs arghh me please  markbradbury_16@h...</td>\n",
       "      <td>1</td>\n",
       "      <td>5</td>\n",
       "      <td>55</td>\n",
       "      <td>11.0</td>\n",
       "      <td>0</td>\n",
       "      <td>1</td>\n",
       "      <td>0</td>\n",
       "      <td>0</td>\n",
       "      <td>0</td>\n",
       "      <td>56</td>\n",
       "      <td>[markbradbury_16@hotmail.com]</td>\n",
       "      <td>1</td>\n",
       "    </tr>\n",
       "  </tbody>\n",
       "</table>\n",
       "</div>"
      ],
      "text/plain": [
       "                                                 twitts  sentiment  \\\n",
       "3713  @securerecs arghh me please  markbradbury_16@h...          1   \n",
       "\n",
       "      word_count  char_counts  average_word  stopw_count  @mention_count  \\\n",
       "3713           5           55          11.0            0               1   \n",
       "\n",
       "      hash  numeric_count  upperw_count  lower_case  \\\n",
       "3713     0              0             0          56   \n",
       "\n",
       "                             emails  emails_count  \n",
       "3713  [markbradbury_16@hotmail.com]             1  "
      ]
     },
     "execution_count": 54,
     "metadata": {},
     "output_type": "execute_result"
    }
   ],
   "source": [
    "df[df['emails_count']>0]"
   ]
  },
  {
   "cell_type": "code",
   "execution_count": 55,
   "id": "666cec99",
   "metadata": {},
   "outputs": [
    {
     "data": {
      "text/plain": [
       "'@securerecs arghh Me Please  '"
      ]
     },
     "execution_count": 55,
     "metadata": {},
     "output_type": "execute_result"
    }
   ],
   "source": [
    "re.sub( r'\\b\\w+@\\w+\\.\\w+',\"\",x)"
   ]
  },
  {
   "cell_type": "code",
   "execution_count": 56,
   "id": "a65b3915",
   "metadata": {},
   "outputs": [],
   "source": [
    "df['twitts'] = df['twitts'].apply(lambda x: re.sub( r'\\b\\w+@\\w+\\.\\w+',\"\",x))"
   ]
  },
  {
   "cell_type": "code",
   "execution_count": 57,
   "id": "68e5d96a",
   "metadata": {},
   "outputs": [
    {
     "data": {
      "text/html": [
       "<div>\n",
       "<style scoped>\n",
       "    .dataframe tbody tr th:only-of-type {\n",
       "        vertical-align: middle;\n",
       "    }\n",
       "\n",
       "    .dataframe tbody tr th {\n",
       "        vertical-align: top;\n",
       "    }\n",
       "\n",
       "    .dataframe thead th {\n",
       "        text-align: right;\n",
       "    }\n",
       "</style>\n",
       "<table border=\"1\" class=\"dataframe\">\n",
       "  <thead>\n",
       "    <tr style=\"text-align: right;\">\n",
       "      <th></th>\n",
       "      <th>twitts</th>\n",
       "      <th>sentiment</th>\n",
       "      <th>word_count</th>\n",
       "      <th>char_counts</th>\n",
       "      <th>average_word</th>\n",
       "      <th>stopw_count</th>\n",
       "      <th>@mention_count</th>\n",
       "      <th>hash</th>\n",
       "      <th>numeric_count</th>\n",
       "      <th>upperw_count</th>\n",
       "      <th>lower_case</th>\n",
       "      <th>emails</th>\n",
       "      <th>emails_count</th>\n",
       "    </tr>\n",
       "  </thead>\n",
       "  <tbody>\n",
       "    <tr>\n",
       "      <th>0</th>\n",
       "      <td>is bored and wants to watch a movie  any sugge...</td>\n",
       "      <td>0</td>\n",
       "      <td>10</td>\n",
       "      <td>52</td>\n",
       "      <td>5.200000</td>\n",
       "      <td>5</td>\n",
       "      <td>0</td>\n",
       "      <td>0</td>\n",
       "      <td>0</td>\n",
       "      <td>0</td>\n",
       "      <td>53</td>\n",
       "      <td>[]</td>\n",
       "      <td>0</td>\n",
       "    </tr>\n",
       "    <tr>\n",
       "      <th>1</th>\n",
       "      <td>back in miami.  waiting to unboard ship</td>\n",
       "      <td>0</td>\n",
       "      <td>7</td>\n",
       "      <td>38</td>\n",
       "      <td>5.428571</td>\n",
       "      <td>2</td>\n",
       "      <td>0</td>\n",
       "      <td>0</td>\n",
       "      <td>0</td>\n",
       "      <td>0</td>\n",
       "      <td>40</td>\n",
       "      <td>[]</td>\n",
       "      <td>0</td>\n",
       "    </tr>\n",
       "    <tr>\n",
       "      <th>2</th>\n",
       "      <td>@misskpey awwww dnt this bring back memoriesss...</td>\n",
       "      <td>0</td>\n",
       "      <td>12</td>\n",
       "      <td>65</td>\n",
       "      <td>5.416667</td>\n",
       "      <td>0</td>\n",
       "      <td>1</td>\n",
       "      <td>0</td>\n",
       "      <td>0</td>\n",
       "      <td>1</td>\n",
       "      <td>66</td>\n",
       "      <td>[]</td>\n",
       "      <td>0</td>\n",
       "    </tr>\n",
       "    <tr>\n",
       "      <th>3</th>\n",
       "      <td>ughhh i am so tired  blahhhhhhhhh</td>\n",
       "      <td>0</td>\n",
       "      <td>6</td>\n",
       "      <td>32</td>\n",
       "      <td>5.333333</td>\n",
       "      <td>3</td>\n",
       "      <td>0</td>\n",
       "      <td>0</td>\n",
       "      <td>0</td>\n",
       "      <td>0</td>\n",
       "      <td>33</td>\n",
       "      <td>[]</td>\n",
       "      <td>0</td>\n",
       "    </tr>\n",
       "    <tr>\n",
       "      <th>4</th>\n",
       "      <td>@mandagoforth me bad! it is funny though. zach...</td>\n",
       "      <td>0</td>\n",
       "      <td>26</td>\n",
       "      <td>141</td>\n",
       "      <td>5.423077</td>\n",
       "      <td>12</td>\n",
       "      <td>2</td>\n",
       "      <td>0</td>\n",
       "      <td>0</td>\n",
       "      <td>0</td>\n",
       "      <td>142</td>\n",
       "      <td>[]</td>\n",
       "      <td>0</td>\n",
       "    </tr>\n",
       "  </tbody>\n",
       "</table>\n",
       "</div>"
      ],
      "text/plain": [
       "                                              twitts  sentiment  word_count  \\\n",
       "0  is bored and wants to watch a movie  any sugge...          0          10   \n",
       "1           back in miami.  waiting to unboard ship           0           7   \n",
       "2  @misskpey awwww dnt this bring back memoriesss...          0          12   \n",
       "3                  ughhh i am so tired  blahhhhhhhhh          0           6   \n",
       "4  @mandagoforth me bad! it is funny though. zach...          0          26   \n",
       "\n",
       "   char_counts  average_word  stopw_count  @mention_count  hash  \\\n",
       "0           52      5.200000            5               0     0   \n",
       "1           38      5.428571            2               0     0   \n",
       "2           65      5.416667            0               1     0   \n",
       "3           32      5.333333            3               0     0   \n",
       "4          141      5.423077           12               2     0   \n",
       "\n",
       "   numeric_count  upperw_count  lower_case emails  emails_count  \n",
       "0              0             0          53     []             0  \n",
       "1              0             0          40     []             0  \n",
       "2              0             1          66     []             0  \n",
       "3              0             0          33     []             0  \n",
       "4              0             0         142     []             0  "
      ]
     },
     "execution_count": 57,
     "metadata": {},
     "output_type": "execute_result"
    }
   ],
   "source": [
    "df.head()"
   ]
  },
  {
   "cell_type": "markdown",
   "id": "950cf5a4",
   "metadata": {},
   "source": [
    "# count url and remove them"
   ]
  },
  {
   "cell_type": "code",
   "execution_count": 58,
   "id": "745a38e0",
   "metadata": {},
   "outputs": [
    {
     "data": {
      "text/html": [
       "<div>\n",
       "<style scoped>\n",
       "    .dataframe tbody tr th:only-of-type {\n",
       "        vertical-align: middle;\n",
       "    }\n",
       "\n",
       "    .dataframe tbody tr th {\n",
       "        vertical-align: top;\n",
       "    }\n",
       "\n",
       "    .dataframe thead th {\n",
       "        text-align: right;\n",
       "    }\n",
       "</style>\n",
       "<table border=\"1\" class=\"dataframe\">\n",
       "  <thead>\n",
       "    <tr style=\"text-align: right;\">\n",
       "      <th></th>\n",
       "      <th>twitts</th>\n",
       "      <th>sentiment</th>\n",
       "      <th>word_count</th>\n",
       "      <th>char_counts</th>\n",
       "      <th>average_word</th>\n",
       "      <th>stopw_count</th>\n",
       "      <th>@mention_count</th>\n",
       "      <th>hash</th>\n",
       "      <th>numeric_count</th>\n",
       "      <th>upperw_count</th>\n",
       "      <th>lower_case</th>\n",
       "      <th>emails</th>\n",
       "      <th>emails_count</th>\n",
       "    </tr>\n",
       "  </thead>\n",
       "  <tbody>\n",
       "    <tr>\n",
       "      <th>16</th>\n",
       "      <td>@brianquest i made 1 fo you 2: http://bit.ly/e...</td>\n",
       "      <td>0</td>\n",
       "      <td>19</td>\n",
       "      <td>99</td>\n",
       "      <td>5.210526</td>\n",
       "      <td>3</td>\n",
       "      <td>1</td>\n",
       "      <td>0</td>\n",
       "      <td>1</td>\n",
       "      <td>3</td>\n",
       "      <td>101</td>\n",
       "      <td>[]</td>\n",
       "      <td>0</td>\n",
       "    </tr>\n",
       "    <tr>\n",
       "      <th>98</th>\n",
       "      <td>heading to work  http://twitpic.com/4eojz</td>\n",
       "      <td>0</td>\n",
       "      <td>4</td>\n",
       "      <td>40</td>\n",
       "      <td>10.000000</td>\n",
       "      <td>1</td>\n",
       "      <td>0</td>\n",
       "      <td>0</td>\n",
       "      <td>0</td>\n",
       "      <td>0</td>\n",
       "      <td>41</td>\n",
       "      <td>[]</td>\n",
       "      <td>0</td>\n",
       "    </tr>\n",
       "    <tr>\n",
       "      <th>99</th>\n",
       "      <td>@blondeblogger http://twitpic.com/4w8hk - i am...</td>\n",
       "      <td>0</td>\n",
       "      <td>10</td>\n",
       "      <td>71</td>\n",
       "      <td>7.100000</td>\n",
       "      <td>4</td>\n",
       "      <td>1</td>\n",
       "      <td>0</td>\n",
       "      <td>0</td>\n",
       "      <td>0</td>\n",
       "      <td>72</td>\n",
       "      <td>[]</td>\n",
       "      <td>0</td>\n",
       "    </tr>\n",
       "    <tr>\n",
       "      <th>144</th>\n",
       "      <td>i miss you  â« http://blip.fm/~8lc2f</td>\n",
       "      <td>0</td>\n",
       "      <td>5</td>\n",
       "      <td>36</td>\n",
       "      <td>7.200000</td>\n",
       "      <td>1</td>\n",
       "      <td>0</td>\n",
       "      <td>0</td>\n",
       "      <td>0</td>\n",
       "      <td>1</td>\n",
       "      <td>37</td>\n",
       "      <td>[]</td>\n",
       "      <td>0</td>\n",
       "    </tr>\n",
       "    <tr>\n",
       "      <th>183</th>\n",
       "      <td>photo: miss germany  http://tumblr.com/xf825f012</td>\n",
       "      <td>0</td>\n",
       "      <td>4</td>\n",
       "      <td>47</td>\n",
       "      <td>11.750000</td>\n",
       "      <td>0</td>\n",
       "      <td>0</td>\n",
       "      <td>0</td>\n",
       "      <td>0</td>\n",
       "      <td>0</td>\n",
       "      <td>48</td>\n",
       "      <td>[]</td>\n",
       "      <td>0</td>\n",
       "    </tr>\n",
       "    <tr>\n",
       "      <th>...</th>\n",
       "      <td>...</td>\n",
       "      <td>...</td>\n",
       "      <td>...</td>\n",
       "      <td>...</td>\n",
       "      <td>...</td>\n",
       "      <td>...</td>\n",
       "      <td>...</td>\n",
       "      <td>...</td>\n",
       "      <td>...</td>\n",
       "      <td>...</td>\n",
       "      <td>...</td>\n",
       "      <td>...</td>\n",
       "      <td>...</td>\n",
       "    </tr>\n",
       "    <tr>\n",
       "      <th>3819</th>\n",
       "      <td>new staark video of &amp;quot;sweet release&amp;quot; ...</td>\n",
       "      <td>1</td>\n",
       "      <td>20</td>\n",
       "      <td>137</td>\n",
       "      <td>6.850000</td>\n",
       "      <td>5</td>\n",
       "      <td>0</td>\n",
       "      <td>0</td>\n",
       "      <td>0</td>\n",
       "      <td>1</td>\n",
       "      <td>138</td>\n",
       "      <td>[]</td>\n",
       "      <td>0</td>\n",
       "    </tr>\n",
       "    <tr>\n",
       "      <th>3826</th>\n",
       "      <td>http://tinyurl.com/kwmynq helmet - unsung to s...</td>\n",
       "      <td>1</td>\n",
       "      <td>9</td>\n",
       "      <td>84</td>\n",
       "      <td>9.333333</td>\n",
       "      <td>2</td>\n",
       "      <td>0</td>\n",
       "      <td>0</td>\n",
       "      <td>0</td>\n",
       "      <td>0</td>\n",
       "      <td>85</td>\n",
       "      <td>[]</td>\n",
       "      <td>0</td>\n",
       "    </tr>\n",
       "    <tr>\n",
       "      <th>3837</th>\n",
       "      <td>@r0ckergirl14 wow sweet again!!  http://twitpi...</td>\n",
       "      <td>1</td>\n",
       "      <td>5</td>\n",
       "      <td>56</td>\n",
       "      <td>11.200000</td>\n",
       "      <td>0</td>\n",
       "      <td>1</td>\n",
       "      <td>0</td>\n",
       "      <td>0</td>\n",
       "      <td>0</td>\n",
       "      <td>57</td>\n",
       "      <td>[]</td>\n",
       "      <td>0</td>\n",
       "    </tr>\n",
       "    <tr>\n",
       "      <th>3958</th>\n",
       "      <td>someone has been creative with my #deskmess wh...</td>\n",
       "      <td>1</td>\n",
       "      <td>13</td>\n",
       "      <td>103</td>\n",
       "      <td>7.923077</td>\n",
       "      <td>7</td>\n",
       "      <td>1</td>\n",
       "      <td>1</td>\n",
       "      <td>0</td>\n",
       "      <td>0</td>\n",
       "      <td>105</td>\n",
       "      <td>[]</td>\n",
       "      <td>0</td>\n",
       "    </tr>\n",
       "    <tr>\n",
       "      <th>3974</th>\n",
       "      <td>@gtucker13 http://twitpic.com/6tw87 - no reall...</td>\n",
       "      <td>1</td>\n",
       "      <td>16</td>\n",
       "      <td>99</td>\n",
       "      <td>6.187500</td>\n",
       "      <td>8</td>\n",
       "      <td>1</td>\n",
       "      <td>0</td>\n",
       "      <td>0</td>\n",
       "      <td>0</td>\n",
       "      <td>100</td>\n",
       "      <td>[]</td>\n",
       "      <td>0</td>\n",
       "    </tr>\n",
       "  </tbody>\n",
       "</table>\n",
       "<p>185 rows × 13 columns</p>\n",
       "</div>"
      ],
      "text/plain": [
       "                                                 twitts  sentiment  \\\n",
       "16    @brianquest i made 1 fo you 2: http://bit.ly/e...          0   \n",
       "98            heading to work  http://twitpic.com/4eojz          0   \n",
       "99    @blondeblogger http://twitpic.com/4w8hk - i am...          0   \n",
       "144               i miss you  â« http://blip.fm/~8lc2f          0   \n",
       "183    photo: miss germany  http://tumblr.com/xf825f012          0   \n",
       "...                                                 ...        ...   \n",
       "3819  new staark video of &quot;sweet release&quot; ...          1   \n",
       "3826  http://tinyurl.com/kwmynq helmet - unsung to s...          1   \n",
       "3837  @r0ckergirl14 wow sweet again!!  http://twitpi...          1   \n",
       "3958  someone has been creative with my #deskmess wh...          1   \n",
       "3974  @gtucker13 http://twitpic.com/6tw87 - no reall...          1   \n",
       "\n",
       "      word_count  char_counts  average_word  stopw_count  @mention_count  \\\n",
       "16            19           99      5.210526            3               1   \n",
       "98             4           40     10.000000            1               0   \n",
       "99            10           71      7.100000            4               1   \n",
       "144            5           36      7.200000            1               0   \n",
       "183            4           47     11.750000            0               0   \n",
       "...          ...          ...           ...          ...             ...   \n",
       "3819          20          137      6.850000            5               0   \n",
       "3826           9           84      9.333333            2               0   \n",
       "3837           5           56     11.200000            0               1   \n",
       "3958          13          103      7.923077            7               1   \n",
       "3974          16           99      6.187500            8               1   \n",
       "\n",
       "      hash  numeric_count  upperw_count  lower_case emails  emails_count  \n",
       "16       0              1             3         101     []             0  \n",
       "98       0              0             0          41     []             0  \n",
       "99       0              0             0          72     []             0  \n",
       "144      0              0             1          37     []             0  \n",
       "183      0              0             0          48     []             0  \n",
       "...    ...            ...           ...         ...    ...           ...  \n",
       "3819     0              0             1         138     []             0  \n",
       "3826     0              0             0          85     []             0  \n",
       "3837     0              0             0          57     []             0  \n",
       "3958     1              0             0         105     []             0  \n",
       "3974     0              0             0         100     []             0  \n",
       "\n",
       "[185 rows x 13 columns]"
      ]
     },
     "execution_count": 58,
     "metadata": {},
     "output_type": "execute_result"
    }
   ],
   "source": [
    "df[df['twitts'].str.contains('http','www')]"
   ]
  },
  {
   "cell_type": "code",
   "execution_count": 59,
   "id": "8e8e2d1a",
   "metadata": {},
   "outputs": [],
   "source": [
    "x = 'hi, thanks to watching it. for more visit https://youtube.com/kgptalkie'"
   ]
  },
  {
   "cell_type": "code",
   "execution_count": 60,
   "id": "c5f43f7e",
   "metadata": {},
   "outputs": [
    {
     "data": {
      "text/plain": [
       "[('https', 'youtube.com', 'kgptalkie')]"
      ]
     },
     "execution_count": 60,
     "metadata": {},
     "output_type": "execute_result"
    }
   ],
   "source": [
    "re.findall( r'(?im)(https|ftp|ssh|http)://(\\S+)\\/(\\S*)',x)"
   ]
  },
  {
   "cell_type": "code",
   "execution_count": 61,
   "id": "8e3781cd",
   "metadata": {},
   "outputs": [],
   "source": [
    "df['url_flags'] = df['twitts'].apply(lambda x: len(re.findall( r'(?im)(https|ftp|ssh|http)://(\\S+)\\/(\\S*)',x)))"
   ]
  },
  {
   "cell_type": "code",
   "execution_count": null,
   "id": "64d7bcd5",
   "metadata": {},
   "outputs": [],
   "source": []
  },
  {
   "cell_type": "code",
   "execution_count": 62,
   "id": "b7eb7e9d",
   "metadata": {},
   "outputs": [
    {
     "data": {
      "text/html": [
       "<div>\n",
       "<style scoped>\n",
       "    .dataframe tbody tr th:only-of-type {\n",
       "        vertical-align: middle;\n",
       "    }\n",
       "\n",
       "    .dataframe tbody tr th {\n",
       "        vertical-align: top;\n",
       "    }\n",
       "\n",
       "    .dataframe thead th {\n",
       "        text-align: right;\n",
       "    }\n",
       "</style>\n",
       "<table border=\"1\" class=\"dataframe\">\n",
       "  <thead>\n",
       "    <tr style=\"text-align: right;\">\n",
       "      <th></th>\n",
       "      <th>twitts</th>\n",
       "      <th>sentiment</th>\n",
       "      <th>word_count</th>\n",
       "      <th>char_counts</th>\n",
       "      <th>average_word</th>\n",
       "      <th>stopw_count</th>\n",
       "      <th>@mention_count</th>\n",
       "      <th>hash</th>\n",
       "      <th>numeric_count</th>\n",
       "      <th>upperw_count</th>\n",
       "      <th>lower_case</th>\n",
       "      <th>emails</th>\n",
       "      <th>emails_count</th>\n",
       "      <th>url_flags</th>\n",
       "    </tr>\n",
       "  </thead>\n",
       "  <tbody>\n",
       "    <tr>\n",
       "      <th>16</th>\n",
       "      <td>@brianquest i made 1 fo you 2: http://bit.ly/e...</td>\n",
       "      <td>0</td>\n",
       "      <td>19</td>\n",
       "      <td>99</td>\n",
       "      <td>5.210526</td>\n",
       "      <td>3</td>\n",
       "      <td>1</td>\n",
       "      <td>0</td>\n",
       "      <td>1</td>\n",
       "      <td>3</td>\n",
       "      <td>101</td>\n",
       "      <td>[]</td>\n",
       "      <td>0</td>\n",
       "      <td>1</td>\n",
       "    </tr>\n",
       "    <tr>\n",
       "      <th>98</th>\n",
       "      <td>heading to work  http://twitpic.com/4eojz</td>\n",
       "      <td>0</td>\n",
       "      <td>4</td>\n",
       "      <td>40</td>\n",
       "      <td>10.000000</td>\n",
       "      <td>1</td>\n",
       "      <td>0</td>\n",
       "      <td>0</td>\n",
       "      <td>0</td>\n",
       "      <td>0</td>\n",
       "      <td>41</td>\n",
       "      <td>[]</td>\n",
       "      <td>0</td>\n",
       "      <td>1</td>\n",
       "    </tr>\n",
       "    <tr>\n",
       "      <th>99</th>\n",
       "      <td>@blondeblogger http://twitpic.com/4w8hk - i am...</td>\n",
       "      <td>0</td>\n",
       "      <td>10</td>\n",
       "      <td>71</td>\n",
       "      <td>7.100000</td>\n",
       "      <td>4</td>\n",
       "      <td>1</td>\n",
       "      <td>0</td>\n",
       "      <td>0</td>\n",
       "      <td>0</td>\n",
       "      <td>72</td>\n",
       "      <td>[]</td>\n",
       "      <td>0</td>\n",
       "      <td>1</td>\n",
       "    </tr>\n",
       "    <tr>\n",
       "      <th>144</th>\n",
       "      <td>i miss you  â« http://blip.fm/~8lc2f</td>\n",
       "      <td>0</td>\n",
       "      <td>5</td>\n",
       "      <td>36</td>\n",
       "      <td>7.200000</td>\n",
       "      <td>1</td>\n",
       "      <td>0</td>\n",
       "      <td>0</td>\n",
       "      <td>0</td>\n",
       "      <td>1</td>\n",
       "      <td>37</td>\n",
       "      <td>[]</td>\n",
       "      <td>0</td>\n",
       "      <td>1</td>\n",
       "    </tr>\n",
       "    <tr>\n",
       "      <th>183</th>\n",
       "      <td>photo: miss germany  http://tumblr.com/xf825f012</td>\n",
       "      <td>0</td>\n",
       "      <td>4</td>\n",
       "      <td>47</td>\n",
       "      <td>11.750000</td>\n",
       "      <td>0</td>\n",
       "      <td>0</td>\n",
       "      <td>0</td>\n",
       "      <td>0</td>\n",
       "      <td>0</td>\n",
       "      <td>48</td>\n",
       "      <td>[]</td>\n",
       "      <td>0</td>\n",
       "      <td>1</td>\n",
       "    </tr>\n",
       "    <tr>\n",
       "      <th>...</th>\n",
       "      <td>...</td>\n",
       "      <td>...</td>\n",
       "      <td>...</td>\n",
       "      <td>...</td>\n",
       "      <td>...</td>\n",
       "      <td>...</td>\n",
       "      <td>...</td>\n",
       "      <td>...</td>\n",
       "      <td>...</td>\n",
       "      <td>...</td>\n",
       "      <td>...</td>\n",
       "      <td>...</td>\n",
       "      <td>...</td>\n",
       "      <td>...</td>\n",
       "    </tr>\n",
       "    <tr>\n",
       "      <th>3819</th>\n",
       "      <td>new staark video of &amp;quot;sweet release&amp;quot; ...</td>\n",
       "      <td>1</td>\n",
       "      <td>20</td>\n",
       "      <td>137</td>\n",
       "      <td>6.850000</td>\n",
       "      <td>5</td>\n",
       "      <td>0</td>\n",
       "      <td>0</td>\n",
       "      <td>0</td>\n",
       "      <td>1</td>\n",
       "      <td>138</td>\n",
       "      <td>[]</td>\n",
       "      <td>0</td>\n",
       "      <td>1</td>\n",
       "    </tr>\n",
       "    <tr>\n",
       "      <th>3826</th>\n",
       "      <td>http://tinyurl.com/kwmynq helmet - unsung to s...</td>\n",
       "      <td>1</td>\n",
       "      <td>9</td>\n",
       "      <td>84</td>\n",
       "      <td>9.333333</td>\n",
       "      <td>2</td>\n",
       "      <td>0</td>\n",
       "      <td>0</td>\n",
       "      <td>0</td>\n",
       "      <td>0</td>\n",
       "      <td>85</td>\n",
       "      <td>[]</td>\n",
       "      <td>0</td>\n",
       "      <td>2</td>\n",
       "    </tr>\n",
       "    <tr>\n",
       "      <th>3837</th>\n",
       "      <td>@r0ckergirl14 wow sweet again!!  http://twitpi...</td>\n",
       "      <td>1</td>\n",
       "      <td>5</td>\n",
       "      <td>56</td>\n",
       "      <td>11.200000</td>\n",
       "      <td>0</td>\n",
       "      <td>1</td>\n",
       "      <td>0</td>\n",
       "      <td>0</td>\n",
       "      <td>0</td>\n",
       "      <td>57</td>\n",
       "      <td>[]</td>\n",
       "      <td>0</td>\n",
       "      <td>1</td>\n",
       "    </tr>\n",
       "    <tr>\n",
       "      <th>3958</th>\n",
       "      <td>someone has been creative with my #deskmess wh...</td>\n",
       "      <td>1</td>\n",
       "      <td>13</td>\n",
       "      <td>103</td>\n",
       "      <td>7.923077</td>\n",
       "      <td>7</td>\n",
       "      <td>1</td>\n",
       "      <td>1</td>\n",
       "      <td>0</td>\n",
       "      <td>0</td>\n",
       "      <td>105</td>\n",
       "      <td>[]</td>\n",
       "      <td>0</td>\n",
       "      <td>1</td>\n",
       "    </tr>\n",
       "    <tr>\n",
       "      <th>3974</th>\n",
       "      <td>@gtucker13 http://twitpic.com/6tw87 - no reall...</td>\n",
       "      <td>1</td>\n",
       "      <td>16</td>\n",
       "      <td>99</td>\n",
       "      <td>6.187500</td>\n",
       "      <td>8</td>\n",
       "      <td>1</td>\n",
       "      <td>0</td>\n",
       "      <td>0</td>\n",
       "      <td>0</td>\n",
       "      <td>100</td>\n",
       "      <td>[]</td>\n",
       "      <td>0</td>\n",
       "      <td>1</td>\n",
       "    </tr>\n",
       "  </tbody>\n",
       "</table>\n",
       "<p>180 rows × 14 columns</p>\n",
       "</div>"
      ],
      "text/plain": [
       "                                                 twitts  sentiment  \\\n",
       "16    @brianquest i made 1 fo you 2: http://bit.ly/e...          0   \n",
       "98            heading to work  http://twitpic.com/4eojz          0   \n",
       "99    @blondeblogger http://twitpic.com/4w8hk - i am...          0   \n",
       "144               i miss you  â« http://blip.fm/~8lc2f          0   \n",
       "183    photo: miss germany  http://tumblr.com/xf825f012          0   \n",
       "...                                                 ...        ...   \n",
       "3819  new staark video of &quot;sweet release&quot; ...          1   \n",
       "3826  http://tinyurl.com/kwmynq helmet - unsung to s...          1   \n",
       "3837  @r0ckergirl14 wow sweet again!!  http://twitpi...          1   \n",
       "3958  someone has been creative with my #deskmess wh...          1   \n",
       "3974  @gtucker13 http://twitpic.com/6tw87 - no reall...          1   \n",
       "\n",
       "      word_count  char_counts  average_word  stopw_count  @mention_count  \\\n",
       "16            19           99      5.210526            3               1   \n",
       "98             4           40     10.000000            1               0   \n",
       "99            10           71      7.100000            4               1   \n",
       "144            5           36      7.200000            1               0   \n",
       "183            4           47     11.750000            0               0   \n",
       "...          ...          ...           ...          ...             ...   \n",
       "3819          20          137      6.850000            5               0   \n",
       "3826           9           84      9.333333            2               0   \n",
       "3837           5           56     11.200000            0               1   \n",
       "3958          13          103      7.923077            7               1   \n",
       "3974          16           99      6.187500            8               1   \n",
       "\n",
       "      hash  numeric_count  upperw_count  lower_case emails  emails_count  \\\n",
       "16       0              1             3         101     []             0   \n",
       "98       0              0             0          41     []             0   \n",
       "99       0              0             0          72     []             0   \n",
       "144      0              0             1          37     []             0   \n",
       "183      0              0             0          48     []             0   \n",
       "...    ...            ...           ...         ...    ...           ...   \n",
       "3819     0              0             1         138     []             0   \n",
       "3826     0              0             0          85     []             0   \n",
       "3837     0              0             0          57     []             0   \n",
       "3958     1              0             0         105     []             0   \n",
       "3974     0              0             0         100     []             0   \n",
       "\n",
       "      url_flags  \n",
       "16            1  \n",
       "98            1  \n",
       "99            1  \n",
       "144           1  \n",
       "183           1  \n",
       "...         ...  \n",
       "3819          1  \n",
       "3826          2  \n",
       "3837          1  \n",
       "3958          1  \n",
       "3974          1  \n",
       "\n",
       "[180 rows x 14 columns]"
      ]
     },
     "execution_count": 62,
     "metadata": {},
     "output_type": "execute_result"
    }
   ],
   "source": [
    "df[df['url_flags']>0]"
   ]
  },
  {
   "cell_type": "code",
   "execution_count": 63,
   "id": "4613b3b7",
   "metadata": {},
   "outputs": [
    {
     "data": {
      "text/plain": [
       "'hi, thanks to watching it. for more visit '"
      ]
     },
     "execution_count": 63,
     "metadata": {},
     "output_type": "execute_result"
    }
   ],
   "source": [
    "re.sub( r'(?im)(https|ftp|ssh|http)://(\\S+)\\/(\\S*)',\"\",x)"
   ]
  },
  {
   "cell_type": "code",
   "execution_count": 64,
   "id": "3f41efd4",
   "metadata": {},
   "outputs": [],
   "source": [
    "df['twitts'] = df['twitts'].apply(lambda x: re.sub( r'(?im)(https|ftp|ssh|http)://(\\S+)\\/(\\S*)',\"\",x))"
   ]
  },
  {
   "cell_type": "code",
   "execution_count": 65,
   "id": "7d64519c",
   "metadata": {},
   "outputs": [
    {
     "data": {
      "text/html": [
       "<div>\n",
       "<style scoped>\n",
       "    .dataframe tbody tr th:only-of-type {\n",
       "        vertical-align: middle;\n",
       "    }\n",
       "\n",
       "    .dataframe tbody tr th {\n",
       "        vertical-align: top;\n",
       "    }\n",
       "\n",
       "    .dataframe thead th {\n",
       "        text-align: right;\n",
       "    }\n",
       "</style>\n",
       "<table border=\"1\" class=\"dataframe\">\n",
       "  <thead>\n",
       "    <tr style=\"text-align: right;\">\n",
       "      <th></th>\n",
       "      <th>twitts</th>\n",
       "      <th>sentiment</th>\n",
       "      <th>word_count</th>\n",
       "      <th>char_counts</th>\n",
       "      <th>average_word</th>\n",
       "      <th>stopw_count</th>\n",
       "      <th>@mention_count</th>\n",
       "      <th>hash</th>\n",
       "      <th>numeric_count</th>\n",
       "      <th>upperw_count</th>\n",
       "      <th>lower_case</th>\n",
       "      <th>emails</th>\n",
       "      <th>emails_count</th>\n",
       "      <th>url_flags</th>\n",
       "    </tr>\n",
       "  </thead>\n",
       "  <tbody>\n",
       "    <tr>\n",
       "      <th>0</th>\n",
       "      <td>is bored and wants to watch a movie  any sugge...</td>\n",
       "      <td>0</td>\n",
       "      <td>10</td>\n",
       "      <td>52</td>\n",
       "      <td>5.200000</td>\n",
       "      <td>5</td>\n",
       "      <td>0</td>\n",
       "      <td>0</td>\n",
       "      <td>0</td>\n",
       "      <td>0</td>\n",
       "      <td>53</td>\n",
       "      <td>[]</td>\n",
       "      <td>0</td>\n",
       "      <td>0</td>\n",
       "    </tr>\n",
       "    <tr>\n",
       "      <th>1</th>\n",
       "      <td>back in miami.  waiting to unboard ship</td>\n",
       "      <td>0</td>\n",
       "      <td>7</td>\n",
       "      <td>38</td>\n",
       "      <td>5.428571</td>\n",
       "      <td>2</td>\n",
       "      <td>0</td>\n",
       "      <td>0</td>\n",
       "      <td>0</td>\n",
       "      <td>0</td>\n",
       "      <td>40</td>\n",
       "      <td>[]</td>\n",
       "      <td>0</td>\n",
       "      <td>0</td>\n",
       "    </tr>\n",
       "    <tr>\n",
       "      <th>2</th>\n",
       "      <td>@misskpey awwww dnt this bring back memoriesss...</td>\n",
       "      <td>0</td>\n",
       "      <td>12</td>\n",
       "      <td>65</td>\n",
       "      <td>5.416667</td>\n",
       "      <td>0</td>\n",
       "      <td>1</td>\n",
       "      <td>0</td>\n",
       "      <td>0</td>\n",
       "      <td>1</td>\n",
       "      <td>66</td>\n",
       "      <td>[]</td>\n",
       "      <td>0</td>\n",
       "      <td>0</td>\n",
       "    </tr>\n",
       "    <tr>\n",
       "      <th>3</th>\n",
       "      <td>ughhh i am so tired  blahhhhhhhhh</td>\n",
       "      <td>0</td>\n",
       "      <td>6</td>\n",
       "      <td>32</td>\n",
       "      <td>5.333333</td>\n",
       "      <td>3</td>\n",
       "      <td>0</td>\n",
       "      <td>0</td>\n",
       "      <td>0</td>\n",
       "      <td>0</td>\n",
       "      <td>33</td>\n",
       "      <td>[]</td>\n",
       "      <td>0</td>\n",
       "      <td>0</td>\n",
       "    </tr>\n",
       "    <tr>\n",
       "      <th>4</th>\n",
       "      <td>@mandagoforth me bad! it is funny though. zach...</td>\n",
       "      <td>0</td>\n",
       "      <td>26</td>\n",
       "      <td>141</td>\n",
       "      <td>5.423077</td>\n",
       "      <td>12</td>\n",
       "      <td>2</td>\n",
       "      <td>0</td>\n",
       "      <td>0</td>\n",
       "      <td>0</td>\n",
       "      <td>142</td>\n",
       "      <td>[]</td>\n",
       "      <td>0</td>\n",
       "      <td>0</td>\n",
       "    </tr>\n",
       "  </tbody>\n",
       "</table>\n",
       "</div>"
      ],
      "text/plain": [
       "                                              twitts  sentiment  word_count  \\\n",
       "0  is bored and wants to watch a movie  any sugge...          0          10   \n",
       "1           back in miami.  waiting to unboard ship           0           7   \n",
       "2  @misskpey awwww dnt this bring back memoriesss...          0          12   \n",
       "3                  ughhh i am so tired  blahhhhhhhhh          0           6   \n",
       "4  @mandagoforth me bad! it is funny though. zach...          0          26   \n",
       "\n",
       "   char_counts  average_word  stopw_count  @mention_count  hash  \\\n",
       "0           52      5.200000            5               0     0   \n",
       "1           38      5.428571            2               0     0   \n",
       "2           65      5.416667            0               1     0   \n",
       "3           32      5.333333            3               0     0   \n",
       "4          141      5.423077           12               2     0   \n",
       "\n",
       "   numeric_count  upperw_count  lower_case emails  emails_count  url_flags  \n",
       "0              0             0          53     []             0          0  \n",
       "1              0             0          40     []             0          0  \n",
       "2              0             1          66     []             0          0  \n",
       "3              0             0          33     []             0          0  \n",
       "4              0             0         142     []             0          0  "
      ]
     },
     "execution_count": 65,
     "metadata": {},
     "output_type": "execute_result"
    }
   ],
   "source": [
    "df.head(5)"
   ]
  },
  {
   "cell_type": "markdown",
   "id": "328479a2",
   "metadata": {},
   "source": [
    "# REMOVE RT FROM TWEET DATA"
   ]
  },
  {
   "cell_type": "code",
   "execution_count": 66,
   "id": "eecef68f",
   "metadata": {},
   "outputs": [
    {
     "data": {
      "text/html": [
       "<div>\n",
       "<style scoped>\n",
       "    .dataframe tbody tr th:only-of-type {\n",
       "        vertical-align: middle;\n",
       "    }\n",
       "\n",
       "    .dataframe tbody tr th {\n",
       "        vertical-align: top;\n",
       "    }\n",
       "\n",
       "    .dataframe thead th {\n",
       "        text-align: right;\n",
       "    }\n",
       "</style>\n",
       "<table border=\"1\" class=\"dataframe\">\n",
       "  <thead>\n",
       "    <tr style=\"text-align: right;\">\n",
       "      <th></th>\n",
       "      <th>twitts</th>\n",
       "      <th>sentiment</th>\n",
       "      <th>word_count</th>\n",
       "      <th>char_counts</th>\n",
       "      <th>average_word</th>\n",
       "      <th>stopw_count</th>\n",
       "      <th>@mention_count</th>\n",
       "      <th>hash</th>\n",
       "      <th>numeric_count</th>\n",
       "      <th>upperw_count</th>\n",
       "      <th>lower_case</th>\n",
       "      <th>emails</th>\n",
       "      <th>emails_count</th>\n",
       "      <th>url_flags</th>\n",
       "    </tr>\n",
       "  </thead>\n",
       "  <tbody>\n",
       "    <tr>\n",
       "      <th>4</th>\n",
       "      <td>@mandagoforth me bad! it is funny though. zach...</td>\n",
       "      <td>0</td>\n",
       "      <td>26</td>\n",
       "      <td>141</td>\n",
       "      <td>5.423077</td>\n",
       "      <td>12</td>\n",
       "      <td>2</td>\n",
       "      <td>0</td>\n",
       "      <td>0</td>\n",
       "      <td>0</td>\n",
       "      <td>142</td>\n",
       "      <td>[]</td>\n",
       "      <td>0</td>\n",
       "      <td>0</td>\n",
       "    </tr>\n",
       "    <tr>\n",
       "      <th>23</th>\n",
       "      <td>ut oh, i wonder if the ram on the desktop is s...</td>\n",
       "      <td>0</td>\n",
       "      <td>14</td>\n",
       "      <td>59</td>\n",
       "      <td>4.214286</td>\n",
       "      <td>6</td>\n",
       "      <td>0</td>\n",
       "      <td>0</td>\n",
       "      <td>0</td>\n",
       "      <td>2</td>\n",
       "      <td>60</td>\n",
       "      <td>[]</td>\n",
       "      <td>0</td>\n",
       "      <td>0</td>\n",
       "    </tr>\n",
       "    <tr>\n",
       "      <th>59</th>\n",
       "      <td>@paulmccourt dunno what sky you're looking at!...</td>\n",
       "      <td>0</td>\n",
       "      <td>15</td>\n",
       "      <td>94</td>\n",
       "      <td>6.266667</td>\n",
       "      <td>4</td>\n",
       "      <td>1</td>\n",
       "      <td>0</td>\n",
       "      <td>0</td>\n",
       "      <td>0</td>\n",
       "      <td>95</td>\n",
       "      <td>[]</td>\n",
       "      <td>0</td>\n",
       "      <td>0</td>\n",
       "    </tr>\n",
       "    <tr>\n",
       "      <th>75</th>\n",
       "      <td>im back home in belfast  im realli tired thoug...</td>\n",
       "      <td>0</td>\n",
       "      <td>22</td>\n",
       "      <td>105</td>\n",
       "      <td>4.772727</td>\n",
       "      <td>6</td>\n",
       "      <td>0</td>\n",
       "      <td>0</td>\n",
       "      <td>0</td>\n",
       "      <td>1</td>\n",
       "      <td>106</td>\n",
       "      <td>[]</td>\n",
       "      <td>0</td>\n",
       "      <td>0</td>\n",
       "    </tr>\n",
       "    <tr>\n",
       "      <th>81</th>\n",
       "      <td>@lilmonkee987 i know what you mean... i feel s...</td>\n",
       "      <td>0</td>\n",
       "      <td>11</td>\n",
       "      <td>58</td>\n",
       "      <td>5.272727</td>\n",
       "      <td>5</td>\n",
       "      <td>1</td>\n",
       "      <td>0</td>\n",
       "      <td>0</td>\n",
       "      <td>0</td>\n",
       "      <td>59</td>\n",
       "      <td>[]</td>\n",
       "      <td>0</td>\n",
       "      <td>0</td>\n",
       "    </tr>\n",
       "    <tr>\n",
       "      <th>...</th>\n",
       "      <td>...</td>\n",
       "      <td>...</td>\n",
       "      <td>...</td>\n",
       "      <td>...</td>\n",
       "      <td>...</td>\n",
       "      <td>...</td>\n",
       "      <td>...</td>\n",
       "      <td>...</td>\n",
       "      <td>...</td>\n",
       "      <td>...</td>\n",
       "      <td>...</td>\n",
       "      <td>...</td>\n",
       "      <td>...</td>\n",
       "      <td>...</td>\n",
       "    </tr>\n",
       "    <tr>\n",
       "      <th>3913</th>\n",
       "      <td>for the press so after she recovered she kille...</td>\n",
       "      <td>1</td>\n",
       "      <td>24</td>\n",
       "      <td>123</td>\n",
       "      <td>5.125000</td>\n",
       "      <td>0</td>\n",
       "      <td>0</td>\n",
       "      <td>0</td>\n",
       "      <td>0</td>\n",
       "      <td>0</td>\n",
       "      <td>124</td>\n",
       "      <td>[]</td>\n",
       "      <td>0</td>\n",
       "      <td>0</td>\n",
       "    </tr>\n",
       "    <tr>\n",
       "      <th>3919</th>\n",
       "      <td>earned her cpr &amp;amp; first aid certifications!</td>\n",
       "      <td>1</td>\n",
       "      <td>7</td>\n",
       "      <td>46</td>\n",
       "      <td>6.571429</td>\n",
       "      <td>1</td>\n",
       "      <td>0</td>\n",
       "      <td>0</td>\n",
       "      <td>0</td>\n",
       "      <td>1</td>\n",
       "      <td>47</td>\n",
       "      <td>[]</td>\n",
       "      <td>0</td>\n",
       "      <td>0</td>\n",
       "    </tr>\n",
       "    <tr>\n",
       "      <th>3945</th>\n",
       "      <td>@teciav &amp;quot;i look high, i look low, i look ...</td>\n",
       "      <td>1</td>\n",
       "      <td>23</td>\n",
       "      <td>128</td>\n",
       "      <td>5.565217</td>\n",
       "      <td>9</td>\n",
       "      <td>1</td>\n",
       "      <td>0</td>\n",
       "      <td>0</td>\n",
       "      <td>0</td>\n",
       "      <td>129</td>\n",
       "      <td>[]</td>\n",
       "      <td>0</td>\n",
       "      <td>0</td>\n",
       "    </tr>\n",
       "    <tr>\n",
       "      <th>3951</th>\n",
       "      <td>i am soo very parched. and hungry. oh and i am...</td>\n",
       "      <td>1</td>\n",
       "      <td>21</td>\n",
       "      <td>107</td>\n",
       "      <td>5.095238</td>\n",
       "      <td>6</td>\n",
       "      <td>0</td>\n",
       "      <td>0</td>\n",
       "      <td>2</td>\n",
       "      <td>1</td>\n",
       "      <td>108</td>\n",
       "      <td>[]</td>\n",
       "      <td>0</td>\n",
       "      <td>0</td>\n",
       "    </tr>\n",
       "    <tr>\n",
       "      <th>3986</th>\n",
       "      <td>@countroshculla yeah..needed to get up early.....</td>\n",
       "      <td>1</td>\n",
       "      <td>10</td>\n",
       "      <td>78</td>\n",
       "      <td>7.800000</td>\n",
       "      <td>4</td>\n",
       "      <td>1</td>\n",
       "      <td>0</td>\n",
       "      <td>0</td>\n",
       "      <td>0</td>\n",
       "      <td>79</td>\n",
       "      <td>[]</td>\n",
       "      <td>0</td>\n",
       "      <td>0</td>\n",
       "    </tr>\n",
       "  </tbody>\n",
       "</table>\n",
       "<p>381 rows × 14 columns</p>\n",
       "</div>"
      ],
      "text/plain": [
       "                                                 twitts  sentiment  \\\n",
       "4     @mandagoforth me bad! it is funny though. zach...          0   \n",
       "23    ut oh, i wonder if the ram on the desktop is s...          0   \n",
       "59    @paulmccourt dunno what sky you're looking at!...          0   \n",
       "75    im back home in belfast  im realli tired thoug...          0   \n",
       "81    @lilmonkee987 i know what you mean... i feel s...          0   \n",
       "...                                                 ...        ...   \n",
       "3913  for the press so after she recovered she kille...          1   \n",
       "3919    earned her cpr &amp; first aid certifications!           1   \n",
       "3945  @teciav &quot;i look high, i look low, i look ...          1   \n",
       "3951  i am soo very parched. and hungry. oh and i am...          1   \n",
       "3986  @countroshculla yeah..needed to get up early.....          1   \n",
       "\n",
       "      word_count  char_counts  average_word  stopw_count  @mention_count  \\\n",
       "4             26          141      5.423077           12               2   \n",
       "23            14           59      4.214286            6               0   \n",
       "59            15           94      6.266667            4               1   \n",
       "75            22          105      4.772727            6               0   \n",
       "81            11           58      5.272727            5               1   \n",
       "...          ...          ...           ...          ...             ...   \n",
       "3913          24          123      5.125000            0               0   \n",
       "3919           7           46      6.571429            1               0   \n",
       "3945          23          128      5.565217            9               1   \n",
       "3951          21          107      5.095238            6               0   \n",
       "3986          10           78      7.800000            4               1   \n",
       "\n",
       "      hash  numeric_count  upperw_count  lower_case emails  emails_count  \\\n",
       "4        0              0             0         142     []             0   \n",
       "23       0              0             2          60     []             0   \n",
       "59       0              0             0          95     []             0   \n",
       "75       0              0             1         106     []             0   \n",
       "81       0              0             0          59     []             0   \n",
       "...    ...            ...           ...         ...    ...           ...   \n",
       "3913     0              0             0         124     []             0   \n",
       "3919     0              0             1          47     []             0   \n",
       "3945     0              0             0         129     []             0   \n",
       "3951     0              2             1         108     []             0   \n",
       "3986     0              0             0          79     []             0   \n",
       "\n",
       "      url_flags  \n",
       "4             0  \n",
       "23            0  \n",
       "59            0  \n",
       "75            0  \n",
       "81            0  \n",
       "...         ...  \n",
       "3913          0  \n",
       "3919          0  \n",
       "3945          0  \n",
       "3951          0  \n",
       "3986          0  \n",
       "\n",
       "[381 rows x 14 columns]"
      ]
     },
     "execution_count": 66,
     "metadata": {},
     "output_type": "execute_result"
    }
   ],
   "source": [
    "df[df['twitts'].str.contains('rt')]"
   ]
  },
  {
   "cell_type": "code",
   "execution_count": 67,
   "id": "ba1369c9",
   "metadata": {},
   "outputs": [],
   "source": [
    "x = 'rt @username: hello hirt'"
   ]
  },
  {
   "cell_type": "code",
   "execution_count": 68,
   "id": "c94786de",
   "metadata": {},
   "outputs": [
    {
     "data": {
      "text/plain": [
       "['rt']"
      ]
     },
     "execution_count": 68,
     "metadata": {},
     "output_type": "execute_result"
    }
   ],
   "source": [
    "re.findall(r'(?im)\\brt\\b',x)"
   ]
  },
  {
   "cell_type": "code",
   "execution_count": 69,
   "id": "9e723d16",
   "metadata": {},
   "outputs": [
    {
     "data": {
      "text/plain": [
       "'@username: hello hirt'"
      ]
     },
     "execution_count": 69,
     "metadata": {},
     "output_type": "execute_result"
    }
   ],
   "source": [
    "re.sub(r'(?im)\\brt\\b',\"\",x).strip()"
   ]
  },
  {
   "cell_type": "code",
   "execution_count": 70,
   "id": "7d674173",
   "metadata": {},
   "outputs": [],
   "source": [
    "df['twitts'] = df['twitts'].apply(lambda x: re.sub(r'(?im)\\brt\\b',\"\",x).strip())"
   ]
  },
  {
   "cell_type": "code",
   "execution_count": 71,
   "id": "cdc59bba",
   "metadata": {},
   "outputs": [
    {
     "data": {
      "text/html": [
       "<div>\n",
       "<style scoped>\n",
       "    .dataframe tbody tr th:only-of-type {\n",
       "        vertical-align: middle;\n",
       "    }\n",
       "\n",
       "    .dataframe tbody tr th {\n",
       "        vertical-align: top;\n",
       "    }\n",
       "\n",
       "    .dataframe thead th {\n",
       "        text-align: right;\n",
       "    }\n",
       "</style>\n",
       "<table border=\"1\" class=\"dataframe\">\n",
       "  <thead>\n",
       "    <tr style=\"text-align: right;\">\n",
       "      <th></th>\n",
       "      <th>twitts</th>\n",
       "      <th>sentiment</th>\n",
       "      <th>word_count</th>\n",
       "      <th>char_counts</th>\n",
       "      <th>average_word</th>\n",
       "      <th>stopw_count</th>\n",
       "      <th>@mention_count</th>\n",
       "      <th>hash</th>\n",
       "      <th>numeric_count</th>\n",
       "      <th>upperw_count</th>\n",
       "      <th>lower_case</th>\n",
       "      <th>emails</th>\n",
       "      <th>emails_count</th>\n",
       "      <th>url_flags</th>\n",
       "    </tr>\n",
       "  </thead>\n",
       "  <tbody>\n",
       "    <tr>\n",
       "      <th>0</th>\n",
       "      <td>is bored and wants to watch a movie  any sugge...</td>\n",
       "      <td>0</td>\n",
       "      <td>10</td>\n",
       "      <td>52</td>\n",
       "      <td>5.200000</td>\n",
       "      <td>5</td>\n",
       "      <td>0</td>\n",
       "      <td>0</td>\n",
       "      <td>0</td>\n",
       "      <td>0</td>\n",
       "      <td>53</td>\n",
       "      <td>[]</td>\n",
       "      <td>0</td>\n",
       "      <td>0</td>\n",
       "    </tr>\n",
       "    <tr>\n",
       "      <th>1</th>\n",
       "      <td>back in miami.  waiting to unboard ship</td>\n",
       "      <td>0</td>\n",
       "      <td>7</td>\n",
       "      <td>38</td>\n",
       "      <td>5.428571</td>\n",
       "      <td>2</td>\n",
       "      <td>0</td>\n",
       "      <td>0</td>\n",
       "      <td>0</td>\n",
       "      <td>0</td>\n",
       "      <td>40</td>\n",
       "      <td>[]</td>\n",
       "      <td>0</td>\n",
       "      <td>0</td>\n",
       "    </tr>\n",
       "    <tr>\n",
       "      <th>2</th>\n",
       "      <td>@misskpey awwww dnt this bring back memoriesss...</td>\n",
       "      <td>0</td>\n",
       "      <td>12</td>\n",
       "      <td>65</td>\n",
       "      <td>5.416667</td>\n",
       "      <td>0</td>\n",
       "      <td>1</td>\n",
       "      <td>0</td>\n",
       "      <td>0</td>\n",
       "      <td>1</td>\n",
       "      <td>66</td>\n",
       "      <td>[]</td>\n",
       "      <td>0</td>\n",
       "      <td>0</td>\n",
       "    </tr>\n",
       "    <tr>\n",
       "      <th>3</th>\n",
       "      <td>ughhh i am so tired  blahhhhhhhhh</td>\n",
       "      <td>0</td>\n",
       "      <td>6</td>\n",
       "      <td>32</td>\n",
       "      <td>5.333333</td>\n",
       "      <td>3</td>\n",
       "      <td>0</td>\n",
       "      <td>0</td>\n",
       "      <td>0</td>\n",
       "      <td>0</td>\n",
       "      <td>33</td>\n",
       "      <td>[]</td>\n",
       "      <td>0</td>\n",
       "      <td>0</td>\n",
       "    </tr>\n",
       "    <tr>\n",
       "      <th>4</th>\n",
       "      <td>@mandagoforth me bad! it is funny though. zach...</td>\n",
       "      <td>0</td>\n",
       "      <td>26</td>\n",
       "      <td>141</td>\n",
       "      <td>5.423077</td>\n",
       "      <td>12</td>\n",
       "      <td>2</td>\n",
       "      <td>0</td>\n",
       "      <td>0</td>\n",
       "      <td>0</td>\n",
       "      <td>142</td>\n",
       "      <td>[]</td>\n",
       "      <td>0</td>\n",
       "      <td>0</td>\n",
       "    </tr>\n",
       "  </tbody>\n",
       "</table>\n",
       "</div>"
      ],
      "text/plain": [
       "                                              twitts  sentiment  word_count  \\\n",
       "0  is bored and wants to watch a movie  any sugge...          0          10   \n",
       "1            back in miami.  waiting to unboard ship          0           7   \n",
       "2  @misskpey awwww dnt this bring back memoriesss...          0          12   \n",
       "3                  ughhh i am so tired  blahhhhhhhhh          0           6   \n",
       "4  @mandagoforth me bad! it is funny though. zach...          0          26   \n",
       "\n",
       "   char_counts  average_word  stopw_count  @mention_count  hash  \\\n",
       "0           52      5.200000            5               0     0   \n",
       "1           38      5.428571            2               0     0   \n",
       "2           65      5.416667            0               1     0   \n",
       "3           32      5.333333            3               0     0   \n",
       "4          141      5.423077           12               2     0   \n",
       "\n",
       "   numeric_count  upperw_count  lower_case emails  emails_count  url_flags  \n",
       "0              0             0          53     []             0          0  \n",
       "1              0             0          40     []             0          0  \n",
       "2              0             1          66     []             0          0  \n",
       "3              0             0          33     []             0          0  \n",
       "4              0             0         142     []             0          0  "
      ]
     },
     "execution_count": 71,
     "metadata": {},
     "output_type": "execute_result"
    }
   ],
   "source": [
    "df.head()"
   ]
  },
  {
   "cell_type": "code",
   "execution_count": null,
   "id": "99e2a84b",
   "metadata": {},
   "outputs": [],
   "source": []
  },
  {
   "cell_type": "markdown",
   "id": "890cb4ce",
   "metadata": {},
   "source": [
    "# Special Chars removal or punctuation removal"
   ]
  },
  {
   "cell_type": "code",
   "execution_count": 72,
   "id": "7d31b5ae",
   "metadata": {},
   "outputs": [
    {
     "data": {
      "text/plain": [
       "'@mandagoforth me bad! it is funny though. zachary quinto is only there for a few though.  &amp; to reply just put the @ symbol before the name!'"
      ]
     },
     "execution_count": 72,
     "metadata": {},
     "output_type": "execute_result"
    }
   ],
   "source": [
    "x = df['twitts'].iloc[4]\n",
    "x"
   ]
  },
  {
   "cell_type": "code",
   "execution_count": 73,
   "id": "4b907aac",
   "metadata": {},
   "outputs": [
    {
     "data": {
      "text/plain": [
       "'mandagoforth me bad it is funny though zachary quinto is only there for a few though  amp to reply just put the  symbol before the name'"
      ]
     },
     "execution_count": 73,
     "metadata": {},
     "output_type": "execute_result"
    }
   ],
   "source": [
    "re.sub(r'[^\\w ]+', \"\", x)"
   ]
  },
  {
   "cell_type": "code",
   "execution_count": 74,
   "id": "fcf6ac25",
   "metadata": {},
   "outputs": [],
   "source": [
    "df['twitts'] = df['twitts'].apply(lambda x: re.sub(r'[^\\w ]+', \"\", x))"
   ]
  },
  {
   "cell_type": "code",
   "execution_count": 75,
   "id": "c54b59a6",
   "metadata": {},
   "outputs": [
    {
     "data": {
      "text/html": [
       "<div>\n",
       "<style scoped>\n",
       "    .dataframe tbody tr th:only-of-type {\n",
       "        vertical-align: middle;\n",
       "    }\n",
       "\n",
       "    .dataframe tbody tr th {\n",
       "        vertical-align: top;\n",
       "    }\n",
       "\n",
       "    .dataframe thead th {\n",
       "        text-align: right;\n",
       "    }\n",
       "</style>\n",
       "<table border=\"1\" class=\"dataframe\">\n",
       "  <thead>\n",
       "    <tr style=\"text-align: right;\">\n",
       "      <th></th>\n",
       "      <th>twitts</th>\n",
       "      <th>sentiment</th>\n",
       "      <th>word_count</th>\n",
       "      <th>char_counts</th>\n",
       "      <th>average_word</th>\n",
       "      <th>stopw_count</th>\n",
       "      <th>@mention_count</th>\n",
       "      <th>hash</th>\n",
       "      <th>numeric_count</th>\n",
       "      <th>upperw_count</th>\n",
       "      <th>lower_case</th>\n",
       "      <th>emails</th>\n",
       "      <th>emails_count</th>\n",
       "      <th>url_flags</th>\n",
       "    </tr>\n",
       "  </thead>\n",
       "  <tbody>\n",
       "    <tr>\n",
       "      <th>0</th>\n",
       "      <td>is bored and wants to watch a movie  any sugge...</td>\n",
       "      <td>0</td>\n",
       "      <td>10</td>\n",
       "      <td>52</td>\n",
       "      <td>5.200000</td>\n",
       "      <td>5</td>\n",
       "      <td>0</td>\n",
       "      <td>0</td>\n",
       "      <td>0</td>\n",
       "      <td>0</td>\n",
       "      <td>53</td>\n",
       "      <td>[]</td>\n",
       "      <td>0</td>\n",
       "      <td>0</td>\n",
       "    </tr>\n",
       "    <tr>\n",
       "      <th>1</th>\n",
       "      <td>back in miami  waiting to unboard ship</td>\n",
       "      <td>0</td>\n",
       "      <td>7</td>\n",
       "      <td>38</td>\n",
       "      <td>5.428571</td>\n",
       "      <td>2</td>\n",
       "      <td>0</td>\n",
       "      <td>0</td>\n",
       "      <td>0</td>\n",
       "      <td>0</td>\n",
       "      <td>40</td>\n",
       "      <td>[]</td>\n",
       "      <td>0</td>\n",
       "      <td>0</td>\n",
       "    </tr>\n",
       "    <tr>\n",
       "      <th>2</th>\n",
       "      <td>misskpey awwww dnt this bring back memoriessss...</td>\n",
       "      <td>0</td>\n",
       "      <td>12</td>\n",
       "      <td>65</td>\n",
       "      <td>5.416667</td>\n",
       "      <td>0</td>\n",
       "      <td>1</td>\n",
       "      <td>0</td>\n",
       "      <td>0</td>\n",
       "      <td>1</td>\n",
       "      <td>66</td>\n",
       "      <td>[]</td>\n",
       "      <td>0</td>\n",
       "      <td>0</td>\n",
       "    </tr>\n",
       "    <tr>\n",
       "      <th>3</th>\n",
       "      <td>ughhh i am so tired  blahhhhhhhhh</td>\n",
       "      <td>0</td>\n",
       "      <td>6</td>\n",
       "      <td>32</td>\n",
       "      <td>5.333333</td>\n",
       "      <td>3</td>\n",
       "      <td>0</td>\n",
       "      <td>0</td>\n",
       "      <td>0</td>\n",
       "      <td>0</td>\n",
       "      <td>33</td>\n",
       "      <td>[]</td>\n",
       "      <td>0</td>\n",
       "      <td>0</td>\n",
       "    </tr>\n",
       "    <tr>\n",
       "      <th>4</th>\n",
       "      <td>mandagoforth me bad it is funny though zachary...</td>\n",
       "      <td>0</td>\n",
       "      <td>26</td>\n",
       "      <td>141</td>\n",
       "      <td>5.423077</td>\n",
       "      <td>12</td>\n",
       "      <td>2</td>\n",
       "      <td>0</td>\n",
       "      <td>0</td>\n",
       "      <td>0</td>\n",
       "      <td>142</td>\n",
       "      <td>[]</td>\n",
       "      <td>0</td>\n",
       "      <td>0</td>\n",
       "    </tr>\n",
       "  </tbody>\n",
       "</table>\n",
       "</div>"
      ],
      "text/plain": [
       "                                              twitts  sentiment  word_count  \\\n",
       "0  is bored and wants to watch a movie  any sugge...          0          10   \n",
       "1             back in miami  waiting to unboard ship          0           7   \n",
       "2  misskpey awwww dnt this bring back memoriessss...          0          12   \n",
       "3                  ughhh i am so tired  blahhhhhhhhh          0           6   \n",
       "4  mandagoforth me bad it is funny though zachary...          0          26   \n",
       "\n",
       "   char_counts  average_word  stopw_count  @mention_count  hash  \\\n",
       "0           52      5.200000            5               0     0   \n",
       "1           38      5.428571            2               0     0   \n",
       "2           65      5.416667            0               1     0   \n",
       "3           32      5.333333            3               0     0   \n",
       "4          141      5.423077           12               2     0   \n",
       "\n",
       "   numeric_count  upperw_count  lower_case emails  emails_count  url_flags  \n",
       "0              0             0          53     []             0          0  \n",
       "1              0             0          40     []             0          0  \n",
       "2              0             1          66     []             0          0  \n",
       "3              0             0          33     []             0          0  \n",
       "4              0             0         142     []             0          0  "
      ]
     },
     "execution_count": 75,
     "metadata": {},
     "output_type": "execute_result"
    }
   ],
   "source": [
    "df.head()"
   ]
  },
  {
   "cell_type": "markdown",
   "id": "19705fa0",
   "metadata": {},
   "source": [
    "# Remove multiple spaces \"hi   hello    \""
   ]
  },
  {
   "cell_type": "code",
   "execution_count": 76,
   "id": "fcf2f683",
   "metadata": {},
   "outputs": [],
   "source": [
    "x =  'hi    hello     how are you'"
   ]
  },
  {
   "cell_type": "code",
   "execution_count": 77,
   "id": "1efa64fd",
   "metadata": {},
   "outputs": [
    {
     "data": {
      "text/plain": [
       "'hi hello how are you'"
      ]
     },
     "execution_count": 77,
     "metadata": {},
     "output_type": "execute_result"
    }
   ],
   "source": [
    "' '.join(x.split())"
   ]
  },
  {
   "cell_type": "code",
   "execution_count": 78,
   "id": "50b1ea8c",
   "metadata": {},
   "outputs": [],
   "source": [
    "df['twitts'] = df['twitts'].apply(lambda x: ' '.join(x.split()))"
   ]
  },
  {
   "cell_type": "markdown",
   "id": "b5289eb6",
   "metadata": {},
   "source": [
    "# Remove HTML tags"
   ]
  },
  {
   "cell_type": "code",
   "execution_count": 79,
   "id": "98904445",
   "metadata": {},
   "outputs": [
    {
     "name": "stdout",
     "output_type": "stream",
     "text": [
      "Requirement already satisfied: beautifulsoup4 in /usr/local/anaconda3/envs/nlp_course/lib/python3.7/site-packages (4.9.3)\r\n",
      "Requirement already satisfied: soupsieve>1.2 in /usr/local/anaconda3/envs/nlp_course/lib/python3.7/site-packages (from beautifulsoup4) (2.2.1)\r\n"
     ]
    }
   ],
   "source": [
    "!pip install beautifulsoup4"
   ]
  },
  {
   "cell_type": "code",
   "execution_count": 80,
   "id": "2e7a2bba",
   "metadata": {},
   "outputs": [],
   "source": [
    "\n",
    "from bs4 import BeautifulSoup"
   ]
  },
  {
   "cell_type": "code",
   "execution_count": 81,
   "id": "6343eea4",
   "metadata": {},
   "outputs": [],
   "source": [
    "#pip install bs4"
   ]
  },
  {
   "cell_type": "code",
   "execution_count": 82,
   "id": "37267997",
   "metadata": {},
   "outputs": [],
   "source": [
    "x = '<html><h1> thanks for watching it </h1></html>'"
   ]
  },
  {
   "cell_type": "code",
   "execution_count": 83,
   "id": "ccc1612a",
   "metadata": {},
   "outputs": [
    {
     "data": {
      "text/plain": [
       "'thanks for watching it'"
      ]
     },
     "execution_count": 83,
     "metadata": {},
     "output_type": "execute_result"
    }
   ],
   "source": [
    "BeautifulSoup(x, \"html.parser\").get_text().strip()"
   ]
  },
  {
   "cell_type": "code",
   "execution_count": 84,
   "id": "988a709d",
   "metadata": {},
   "outputs": [
    {
     "name": "stdout",
     "output_type": "stream",
     "text": [
      "Requirement already satisfied: lxml in /usr/local/anaconda3/envs/nlp_course/lib/python3.7/site-packages (4.6.3)\n",
      "Note: you may need to restart the kernel to use updated packages.\n"
     ]
    }
   ],
   "source": [
    "pip install lxml"
   ]
  },
  {
   "cell_type": "code",
   "execution_count": 85,
   "id": "03395160",
   "metadata": {},
   "outputs": [
    {
     "name": "stdout",
     "output_type": "stream",
     "text": [
      "Requirement already satisfied: html5lib in /usr/local/anaconda3/envs/nlp_course/lib/python3.7/site-packages (1.1)\n",
      "Requirement already satisfied: webencodings in /usr/local/anaconda3/envs/nlp_course/lib/python3.7/site-packages (from html5lib) (0.5.1)\n",
      "Requirement already satisfied: six>=1.9 in /usr/local/anaconda3/envs/nlp_course/lib/python3.7/site-packages (from html5lib) (1.15.0)\n",
      "Note: you may need to restart the kernel to use updated packages.\n"
     ]
    }
   ],
   "source": [
    "pip install html5lib"
   ]
  },
  {
   "cell_type": "code",
   "execution_count": 86,
   "id": "e10a6bff",
   "metadata": {},
   "outputs": [
    {
     "name": "stdout",
     "output_type": "stream",
     "text": [
      "CPU times: user 222 ms, sys: 39.4 ms, total: 261 ms\n",
      "Wall time: 260 ms\n"
     ]
    }
   ],
   "source": [
    "%%time\n",
    "df['twitts'] = df['twitts'].apply(lambda x: BeautifulSoup(x, \"html.parser\").get_text().strip())"
   ]
  },
  {
   "cell_type": "markdown",
   "id": "12c3ff26",
   "metadata": {},
   "source": [
    "# Remove Accented Chars "
   ]
  },
  {
   "cell_type": "code",
   "execution_count": 87,
   "id": "82411d8e",
   "metadata": {},
   "outputs": [],
   "source": [
    "x = 'Áccěntěd těxt'"
   ]
  },
  {
   "cell_type": "code",
   "execution_count": 88,
   "id": "99cb6aa2",
   "metadata": {},
   "outputs": [],
   "source": [
    "import unicodedata"
   ]
  },
  {
   "cell_type": "code",
   "execution_count": 89,
   "id": "22a3f6c6",
   "metadata": {},
   "outputs": [],
   "source": [
    "def remove_accented_chars(x):\n",
    "    x = unicodedata.normalize('NFKD', x).encode('ascii', 'ignore').decode('utf-8', 'ignore')\n",
    "    return x"
   ]
  },
  {
   "cell_type": "code",
   "execution_count": 90,
   "id": "9f283e60",
   "metadata": {},
   "outputs": [],
   "source": [
    "df['twitts'] = df['twitts'].apply(lambda x: remove_accented_chars(x))"
   ]
  },
  {
   "cell_type": "markdown",
   "id": "21a0a025",
   "metadata": {},
   "source": [
    "# Remove Stop Words¶"
   ]
  },
  {
   "cell_type": "code",
   "execution_count": 91,
   "id": "6b0d6788",
   "metadata": {},
   "outputs": [],
   "source": [
    "x = 'this is a stop words'"
   ]
  },
  {
   "cell_type": "code",
   "execution_count": 92,
   "id": "22605d2b",
   "metadata": {},
   "outputs": [
    {
     "data": {
      "text/plain": [
       "'stop words'"
      ]
     },
     "execution_count": 92,
     "metadata": {},
     "output_type": "execute_result"
    }
   ],
   "source": [
    "' '.join([t for t in x.split() if t not in stopwords])"
   ]
  },
  {
   "cell_type": "code",
   "execution_count": 93,
   "id": "ebfefacf",
   "metadata": {},
   "outputs": [],
   "source": [
    "df['twitts_no_stop'] = df['twitts'].apply(lambda x: ' '.join([t for t in x.split() if t not in stopwords]))"
   ]
  },
  {
   "cell_type": "markdown",
   "id": "ada21a11",
   "metadata": {},
   "source": [
    "# Convert into base or root form of word"
   ]
  },
  {
   "cell_type": "code",
   "execution_count": 94,
   "id": "6b2a70ed",
   "metadata": {},
   "outputs": [],
   "source": [
    "nlp = spacy.load('en_core_web_sm')"
   ]
  },
  {
   "cell_type": "code",
   "execution_count": 95,
   "id": "c7031f26",
   "metadata": {},
   "outputs": [],
   "source": [
    "x = 'this is chocolates. what is times? this balls'"
   ]
  },
  {
   "cell_type": "code",
   "execution_count": 96,
   "id": "7bbf2d32",
   "metadata": {},
   "outputs": [],
   "source": [
    "def make_to_base(x):\n",
    "    x = str(x)\n",
    "    x_list = []\n",
    "    doc = nlp(x)\n",
    "    \n",
    "    for token in doc:\n",
    "        lemma = token.lemma_\n",
    "        if lemma == '-PRON-' or lemma == 'be':\n",
    "            lemma = token.text\n",
    "\n",
    "        x_list.append(lemma)\n",
    "    return ' '.join(x_list)"
   ]
  },
  {
   "cell_type": "code",
   "execution_count": 97,
   "id": "47336ca6",
   "metadata": {},
   "outputs": [
    {
     "data": {
      "text/plain": [
       "'this is chocolate . what is time ? this ball'"
      ]
     },
     "execution_count": 97,
     "metadata": {},
     "output_type": "execute_result"
    }
   ],
   "source": [
    "make_to_base(x)"
   ]
  },
  {
   "cell_type": "code",
   "execution_count": null,
   "id": "beb43c48",
   "metadata": {},
   "outputs": [],
   "source": [
    "df['twitts'] = df['twitts'].apply(lambda x: make_to_base(x))"
   ]
  },
  {
   "cell_type": "markdown",
   "id": "e96f15fc",
   "metadata": {},
   "source": [
    "# Common words removal \n",
    "\n"
   ]
  },
  {
   "cell_type": "code",
   "execution_count": null,
   "id": "3abf0a77",
   "metadata": {},
   "outputs": [],
   "source": [
    "x = 'this is this okay bye'"
   ]
  },
  {
   "cell_type": "code",
   "execution_count": null,
   "id": "86fc51bd",
   "metadata": {},
   "outputs": [],
   "source": [
    "text = ' '.join(df['twitts'])"
   ]
  },
  {
   "cell_type": "code",
   "execution_count": null,
   "id": "f8c68523",
   "metadata": {},
   "outputs": [],
   "source": [
    "len(text)"
   ]
  },
  {
   "cell_type": "code",
   "execution_count": null,
   "id": "44d173c9",
   "metadata": {},
   "outputs": [],
   "source": [
    "text = text.split()"
   ]
  },
  {
   "cell_type": "code",
   "execution_count": null,
   "id": "c41d8923",
   "metadata": {},
   "outputs": [],
   "source": [
    "len(text)"
   ]
  },
  {
   "cell_type": "code",
   "execution_count": null,
   "id": "b5a4d401",
   "metadata": {},
   "outputs": [],
   "source": [
    "freq_comm = pd.Series(text).value_counts()"
   ]
  },
  {
   "cell_type": "code",
   "execution_count": null,
   "id": "95a1d196",
   "metadata": {},
   "outputs": [],
   "source": [
    "f20 = freq_comm[:20]"
   ]
  },
  {
   "cell_type": "code",
   "execution_count": null,
   "id": "2b28ae16",
   "metadata": {},
   "outputs": [],
   "source": [
    "f20"
   ]
  },
  {
   "cell_type": "code",
   "execution_count": null,
   "id": "efa92d36",
   "metadata": {},
   "outputs": [],
   "source": [
    "df['twitts'] = df['twitts'].apply(lambda x: ' '.join([t for t in x.split() if t not in f20]))"
   ]
  },
  {
   "cell_type": "markdown",
   "id": "8ae94c9b",
   "metadata": {},
   "source": [
    "# Rare words removal"
   ]
  },
  {
   "cell_type": "code",
   "execution_count": null,
   "id": "ce7fa703",
   "metadata": {},
   "outputs": [],
   "source": [
    "rare20 = freq_comm.tail(20)"
   ]
  },
  {
   "cell_type": "code",
   "execution_count": null,
   "id": "1b3eba12",
   "metadata": {},
   "outputs": [],
   "source": [
    "df['twitts'] = df['twitts'].apply(lambda x: ' '.join([t for t in x.split() if t not in rare20]))"
   ]
  },
  {
   "cell_type": "markdown",
   "id": "0d507b5c",
   "metadata": {},
   "source": [
    "# Word Cloud Visualization"
   ]
  },
  {
   "cell_type": "code",
   "execution_count": null,
   "id": "1ca4b48e",
   "metadata": {},
   "outputs": [],
   "source": [
    "text = ' '.join(df['twitts'])"
   ]
  },
  {
   "cell_type": "code",
   "execution_count": null,
   "id": "7d9a5db1",
   "metadata": {},
   "outputs": [],
   "source": [
    "len(text)"
   ]
  },
  {
   "cell_type": "code",
   "execution_count": null,
   "id": "504d3d35",
   "metadata": {},
   "outputs": [],
   "source": [
    "stopwords = set(STOPWORDS)\n",
    "stopwords.update([\"subject\",\"re\",\"vince\",\"kaminski\",\"enron\",\"cc\", \"will\", \"s\", \"1\",\"e\",\"t\"])\n",
    "\n",
    "wordcloud_spam = WordCloud(stopwords=stopwords, background_color=\"white\", max_font_size=50, max_words=100).generate(text)\n",
    "\n",
    "# Lines 4 to 7\n",
    "plt.figure(figsize = (15,15))\n",
    "plt.imshow(wordcloud_spam, interpolation='bilinear')\n",
    "plt.axis(\"off\")\n",
    "plt.show()"
   ]
  },
  {
   "cell_type": "markdown",
   "id": "c1b5f42f",
   "metadata": {},
   "source": [
    "# Spelling Correction"
   ]
  },
  {
   "cell_type": "code",
   "execution_count": null,
   "id": "522439a6",
   "metadata": {},
   "outputs": [],
   "source": [
    "!pip install -U textblob"
   ]
  },
  {
   "cell_type": "code",
   "execution_count": null,
   "id": "8a9f81cf",
   "metadata": {},
   "outputs": [],
   "source": [
    "!python -m textblob.download_corpora"
   ]
  },
  {
   "cell_type": "code",
   "execution_count": null,
   "id": "b4924938",
   "metadata": {},
   "outputs": [],
   "source": []
  }
 ],
 "metadata": {
  "kernelspec": {
   "display_name": "nlp_course",
   "language": "python",
   "name": "nlp_course"
  },
  "language_info": {
   "codemirror_mode": {
    "name": "ipython",
    "version": 3
   },
   "file_extension": ".py",
   "mimetype": "text/x-python",
   "name": "python",
   "nbconvert_exporter": "python",
   "pygments_lexer": "ipython3",
   "version": "3.7.10"
  }
 },
 "nbformat": 4,
 "nbformat_minor": 5
}
